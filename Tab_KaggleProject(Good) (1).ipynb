{
  "cells": [
    {
      "cell_type": "code",
      "execution_count": null,
      "id": "7fc0d6d1-0327-4738-89a4-fddc47cc0a94",
      "metadata": {
        "id": "7fc0d6d1-0327-4738-89a4-fddc47cc0a94"
      },
      "outputs": [],
      "source": [
        "## Using the Santander Kaggle Dataset\n",
        "\n",
        "## updated file that is too big to upload on github: https://colab.research.google.com/drive/1CIj-DoXS0UgyLh00uWstgspgnPiiA_ox?usp=sharing"
      ]
    },
    {
      "cell_type": "code",
      "execution_count": null,
      "id": "8a7bb269-f59c-4702-aa1a-141b02388e14",
      "metadata": {
        "id": "8a7bb269-f59c-4702-aa1a-141b02388e14"
      },
      "outputs": [],
      "source": [
        "#import libraries\n",
        "import pandas as pd\n",
        "import numpy as np\n",
        "import os\n",
        "import seaborn as sns\n",
        "import tabulate\n",
        "import matplotlib.pyplot as plt\n",
        "from IPython.display import HTML, display\n",
        "import math"
      ]
    },
    {
      "cell_type": "code",
      "execution_count": null,
      "id": "86a87b88-73c5-4ebf-a45e-a3d23172434b",
      "metadata": {
        "id": "86a87b88-73c5-4ebf-a45e-a3d23172434b",
        "outputId": "3fc4b72b-78cc-45e1-aa4c-31a2c0e78823"
      },
      "outputs": [
        {
          "name": "stdout",
          "output_type": "stream",
          "text": [
            "\u001b[33mWARNING: Running pip as the 'root' user can result in broken permissions and conflicting behaviour with the system package manager, possibly rendering your system unusable.It is recommended to use a virtual environment instead: https://pip.pypa.io/warnings/venv. Use the --root-user-action option if you know what you are doing and want to suppress this warning.\u001b[0m\u001b[33m\n",
            "\u001b[0m"
          ]
        }
      ],
      "source": [
        "!pip install -q kaggle"
      ]
    },
    {
      "cell_type": "code",
      "execution_count": null,
      "id": "c5f55132-9616-4128-ad15-817f6eece3fb",
      "metadata": {
        "id": "c5f55132-9616-4128-ad15-817f6eece3fb",
        "outputId": "8b364ef6-dcd3-470f-e782-939485ab67b3"
      },
      "outputs": [
        {
          "name": "stdout",
          "output_type": "stream",
          "text": [
            "Requirement already satisfied: pip in /usr/local/lib/python3.10/dist-packages (24.1.2)\n",
            "\u001b[33mWARNING: Running pip as the 'root' user can result in broken permissions and conflicting behaviour with the system package manager, possibly rendering your system unusable.It is recommended to use a virtual environment instead: https://pip.pypa.io/warnings/venv. Use the --root-user-action option if you know what you are doing and want to suppress this warning.\u001b[0m\u001b[33m\n",
            "\u001b[0m"
          ]
        }
      ],
      "source": [
        "!python3 -m pip install --upgrade pip"
      ]
    },
    {
      "cell_type": "code",
      "execution_count": null,
      "id": "d1e6a052-fe3a-4e07-8baa-528bfc9844b4",
      "metadata": {
        "id": "d1e6a052-fe3a-4e07-8baa-528bfc9844b4",
        "outputId": "7943f8a8-ebfd-4b69-893e-aeed0cedcca6"
      },
      "outputs": [
        {
          "name": "stdout",
          "output_type": "stream",
          "text": [
            " Absence.csv\t\t\t  USA_cars_datasets.csv\n",
            "'Completed Assignments'\t\t  Untitled.ipynb\n",
            " Housing.csv\t\t\t  header.csv\n",
            " Housing_new.csv\t\t  heart.csv\n",
            " Mall_Customers.csv\t\t  sample_submission.csv\n",
            " Mall_Customers_no_id.csv\t  sorted_training_cancer.csv\n",
            " Presence.csv\t\t\t  test.csv\n",
            " Scores_sum.csv\t\t\t  train_diabetes.csv\n",
            "'Summer 2024 Kaggle Project'\t  training.csv.zip\n",
            "'Tab_KaggleProject(Good).ipynb'   training_cancer.csv\n"
          ]
        }
      ],
      "source": [
        "!ls"
      ]
    },
    {
      "cell_type": "code",
      "execution_count": null,
      "id": "6cb8ed4c-8f1a-4082-9242-49c9542a7cf4",
      "metadata": {
        "id": "6cb8ed4c-8f1a-4082-9242-49c9542a7cf4",
        "outputId": "53cb5d34-10a0-4654-a5df-72d2ea85b5c7"
      },
      "outputs": [
        {
          "name": "stdout",
          "output_type": "stream",
          "text": [
            "/root/Data 4380\n"
          ]
        }
      ],
      "source": [
        "!pwd"
      ]
    },
    {
      "cell_type": "code",
      "execution_count": null,
      "id": "35293b13-ec16-4e24-ae81-bf0d1e4c797e",
      "metadata": {
        "id": "35293b13-ec16-4e24-ae81-bf0d1e4c797e",
        "outputId": "e7d15f7f-cd8b-4e3a-9616-4cc71192336b"
      },
      "outputs": [
        {
          "name": "stdout",
          "output_type": "stream",
          "text": [
            "total 25992\n",
            "drwxr-xr-x  5 root root     4096 Jul 26 18:19  .\n",
            "drwx------ 19 root root     4096 Jul 17 21:18  ..\n",
            "drwxr-xr-x  2 root root     4096 Jul 26 18:15  .ipynb_checkpoints\n",
            "-rw-r--r--  1 root root       81 Jun 14 18:02  Absence.csv\n",
            "drwxr-xr-x  3 root root     4096 Jun 14 19:54 'Completed Assignments'\n",
            "-rw-r--r--  1 root root    29981 Jun 14 19:29  Housing.csv\n",
            "-rw-r--r--  1 root root    19779 Jun 14 19:30  Housing_new.csv\n",
            "-rw-r--r--  1 root root     4286 Jun 14 19:33  Mall_Customers.csv\n",
            "-rw-r--r--  1 root root     3276 Jun 14 19:34  Mall_Customers_no_id.csv\n",
            "-rw-r--r--  1 root root       81 Jun 14 18:01  Presence.csv\n",
            "-rw-r--r--  1 root root        0 Jun 14 19:42  Scores_sum.csv\n",
            "drwxr-xr-x  4 root root     4096 Jul 17 21:18 'Summer 2024 Kaggle Project'\n",
            "-rw-r--r--  1 root root    23400 Jul 26 18:19 'Tab_KaggleProject(Good).ipynb'\n",
            "-rw-r--r--  1 root root   284430 Jun 14 19:22  USA_cars_datasets.csv\n",
            "-rw-r--r--  1 root root      768 Jun  9 12:45  Untitled.ipynb\n",
            "-rw-r--r--  1 root root        0 Jun 10 18:58  header.csv\n",
            "-rw-r--r--  1 root root    38114 Jun 14 18:01  heart.csv\n",
            "-rw-r--r--  1 root root      909 Jun 10 18:43  sample_submission.csv\n",
            "-rw-r--r--  1 root root 11253440 Jun 14 19:50  sorted_training_cancer.csv\n",
            "-rw-r--r--  1 root root     5369 Jun 10 18:43  test.csv\n",
            "-rw-r--r--  1 root root    20534 Jun 10 18:42  train_diabetes.csv\n",
            "-rw-r--r--  1 root root  3616428 Jun 14 19:47  training.csv.zip\n",
            "-rw-r--r--  1 root root 11253439 Jun 14 19:49  training_cancer.csv\n"
          ]
        }
      ],
      "source": [
        "!ls -la"
      ]
    },
    {
      "cell_type": "code",
      "execution_count": null,
      "id": "0741b5ba-fb76-44e0-a1b4-71254d5b4072",
      "metadata": {
        "id": "0741b5ba-fb76-44e0-a1b4-71254d5b4072",
        "outputId": "9cce9fe1-8473-47d0-8651-d45b41478f4f"
      },
      "outputs": [
        {
          "name": "stdout",
          "output_type": "stream",
          "text": [
            "Current working directory: /root/Data 4380\n",
            "Contents of current directory: ['sample_submission.csv', 'Housing.csv', 'Summer 2024 Kaggle Project', 'Untitled.ipynb', 'Housing_new.csv', 'Completed Assignments', 'training.csv.zip', 'training_cancer.csv', 'heart.csv', '.ipynb_checkpoints', 'Tab_KaggleProject(Good).ipynb', 'Presence.csv', 'Absence.csv', 'test.csv', 'USA_cars_datasets.csv', 'header.csv', 'Scores_sum.csv', 'train_diabetes.csv', 'Mall_Customers_no_id.csv', 'sorted_training_cancer.csv', 'Mall_Customers.csv']\n",
            "Changed directory to 'Summer 2024 Kaggle Project/santander-product-recommendation'\n",
            "Contents of 'Summer 2024 Kaggle Project/santander-product-recommendation': ['train_ver2(spr).csv.zip', 'santander-product-recommendation.zip', '.ipynb_checkpoints', 'test_ver2(spr).csv.zip', 'sample_submission(spr).csv.zip']\n"
          ]
        }
      ],
      "source": [
        "import os\n",
        "\n",
        "# Step 1: Print the current working directory\n",
        "print(\"Current working directory:\", os.getcwd())\n",
        "\n",
        "# Step 2: List the contents of the current directory\n",
        "print(\"Contents of current directory:\", os.listdir())\n",
        "\n",
        "# Step 3: Navigate to the 'Summer 2024 Kaggle Project/santander-product-recommendation' directory\n",
        "try:\n",
        "    os.chdir(\"Summer 2024 Kaggle Project/santander-product-recommendation\")\n",
        "    print(\"Changed directory to 'Summer 2024 Kaggle Project/santander-product-recommendation'\")\n",
        "\n",
        "    # Step 4: List the contents of the target directory\n",
        "    print(\"Contents of 'Summer 2024 Kaggle Project/santander-product-recommendation':\", os.listdir())\n",
        "except FileNotFoundError as e:\n",
        "    print(e)\n"
      ]
    },
    {
      "cell_type": "code",
      "execution_count": null,
      "id": "c5f96b21-211e-47a1-a863-a16e8a3a980c",
      "metadata": {
        "id": "c5f96b21-211e-47a1-a863-a16e8a3a980c",
        "outputId": "fc331b70-700d-420a-a667-3aaefe471c46"
      },
      "outputs": [
        {
          "data": {
            "text/plain": [
              "'/root/Data 4380/Summer 2024 Kaggle Project/santander-product-recommendation'"
            ]
          },
          "execution_count": 11,
          "metadata": {},
          "output_type": "execute_result"
        }
      ],
      "source": [
        "pwd"
      ]
    },
    {
      "cell_type": "code",
      "execution_count": null,
      "id": "22886922-5a31-4341-8c14-718b0e48e61c",
      "metadata": {
        "id": "22886922-5a31-4341-8c14-718b0e48e61c",
        "outputId": "d9805ac7-3ef3-4d99-9723-253328d046ff"
      },
      "outputs": [
        {
          "name": "stdout",
          "output_type": "stream",
          "text": [
            "'sample_submission(spr).csv.zip'       'test_ver2(spr).csv.zip'\n",
            " santander-product-recommendation.zip  'train_ver2(spr).csv.zip'\n"
          ]
        }
      ],
      "source": [
        "!ls"
      ]
    },
    {
      "cell_type": "code",
      "execution_count": null,
      "id": "c433c42f-468c-423c-948c-a32baee70ef5",
      "metadata": {
        "id": "c433c42f-468c-423c-948c-a32baee70ef5",
        "outputId": "add8d5e1-410b-433f-eb64-0fa66a50cd63"
      },
      "outputs": [
        {
          "name": "stdout",
          "output_type": "stream",
          "text": [
            "<bound method NDFrame.head of       fecha_dato  ncodpers ind_empleado pais_residencia sexo  age  fecha_alta  \\\n",
            "0     2015-01-28   1375586            N              ES    H   35  2015-01-12   \n",
            "1     2015-01-28   1050611            N              ES    V   23  2012-08-10   \n",
            "2     2015-01-28   1050612            N              ES    V   23  2012-08-10   \n",
            "3     2015-01-28   1050613            N              ES    H   22  2012-08-10   \n",
            "4     2015-01-28   1050614            N              ES    V   23  2012-08-10   \n",
            "...          ...       ...          ...             ...  ...  ...         ...   \n",
            "9995  2015-01-28   1065716            N              ES    V   27  2012-09-24   \n",
            "9996  2015-01-28   1065717            N              ES    V   24  2012-09-24   \n",
            "9997  2015-01-28   1065719            N              ES    H   23  2012-09-24   \n",
            "9998  2015-01-28   1065649            N              ES    H   30  2012-09-24   \n",
            "9999  2015-01-28   1065648            N              ES    H   24  2012-09-24   \n",
            "\n",
            "      ind_nuevo antiguedad  indrel  ... ind_hip_fin_ult1  ind_plan_fin_ult1  \\\n",
            "0           0.0          6     1.0  ...                0                  0   \n",
            "1           0.0         35     1.0  ...                0                  0   \n",
            "2           0.0         35     1.0  ...                0                  0   \n",
            "3           0.0         35     1.0  ...                0                  0   \n",
            "4           0.0         35     1.0  ...                0                  0   \n",
            "...         ...        ...     ...  ...              ...                ...   \n",
            "9995        0.0         34     1.0  ...                0                  0   \n",
            "9996        0.0         34     1.0  ...                0                  0   \n",
            "9997        0.0         34     1.0  ...                0                  0   \n",
            "9998        0.0         34     1.0  ...                0                  0   \n",
            "9999        0.0         34     1.0  ...                0                  0   \n",
            "\n",
            "     ind_pres_fin_ult1 ind_reca_fin_ult1 ind_tjcr_fin_ult1  ind_valo_fin_ult1  \\\n",
            "0                    0                 0                 0                  0   \n",
            "1                    0                 0                 0                  0   \n",
            "2                    0                 0                 0                  0   \n",
            "3                    0                 0                 0                  0   \n",
            "4                    0                 0                 0                  0   \n",
            "...                ...               ...               ...                ...   \n",
            "9995                 0                 0                 0                  0   \n",
            "9996                 0                 0                 0                  0   \n",
            "9997                 0                 0                 0                  0   \n",
            "9998                 0                 0                 0                  0   \n",
            "9999                 0                 0                 0                  0   \n",
            "\n",
            "     ind_viv_fin_ult1 ind_nomina_ult1  ind_nom_pens_ult1  ind_recibo_ult1  \n",
            "0                   0             0.0                0.0                0  \n",
            "1                   0             0.0                0.0                0  \n",
            "2                   0             0.0                0.0                0  \n",
            "3                   0             0.0                0.0                0  \n",
            "4                   0             0.0                0.0                0  \n",
            "...               ...             ...                ...              ...  \n",
            "9995                0             0.0                0.0                0  \n",
            "9996                0             0.0                0.0                0  \n",
            "9997                0             0.0                0.0                0  \n",
            "9998                0             0.0                0.0                0  \n",
            "9999                0             0.0                0.0                0  \n",
            "\n",
            "[10000 rows x 48 columns]>\n"
          ]
        }
      ],
      "source": [
        "df= pd.read_csv('train_ver2(spr).csv.zip', nrows=10000)\n",
        "\n",
        "print(df.head)"
      ]
    },
    {
      "cell_type": "code",
      "execution_count": null,
      "id": "b373e85d-e00e-4f9f-8278-0c9e81e4cc5a",
      "metadata": {
        "id": "b373e85d-e00e-4f9f-8278-0c9e81e4cc5a",
        "outputId": "600ac64b-e28a-4fd2-8c0c-32896625bda6"
      },
      "outputs": [
        {
          "name": "stdout",
          "output_type": "stream",
          "text": [
            "                   Column  Missing Percentage\n",
            "15               conyuemp              100.00\n",
            "10         ult_fec_cli_1t               99.88\n",
            "22                  renta               18.99\n",
            "19               cod_prov                0.54\n",
            "20                nomprov                0.54\n",
            "7               ind_nuevo                0.50\n",
            "3         pais_residencia                0.50\n",
            "2            ind_empleado                0.50\n",
            "13                indresi                0.50\n",
            "12            tiprel_1mes                0.50\n",
            "14                 indext                0.50\n",
            "9                  indrel                0.50\n",
            "16          canal_entrada                0.50\n",
            "11            indrel_1mes                0.50\n",
            "6              fecha_alta                0.50\n",
            "4                    sexo                0.50\n",
            "18                tipodom                0.50\n",
            "17                indfall                0.50\n",
            "21  ind_actividad_cliente                0.50\n",
            "23               segmento                0.50\n",
            "46      ind_nom_pens_ult1                0.11\n",
            "45        ind_nomina_ult1                0.11\n",
            "0              fecha_dato                0.00\n",
            "5                     age                0.00\n",
            "8              antiguedad                0.00\n",
            "1                ncodpers                0.00\n",
            "24      ind_ahor_fin_ult1                0.00\n",
            "25      ind_aval_fin_ult1                0.00\n",
            "28       ind_cno_fin_ult1                0.00\n",
            "29      ind_ctju_fin_ult1                0.00\n",
            "26       ind_cco_fin_ult1                0.00\n",
            "27      ind_cder_fin_ult1                0.00\n",
            "31      ind_ctop_fin_ult1                0.00\n",
            "30      ind_ctma_fin_ult1                0.00\n",
            "32      ind_ctpp_fin_ult1                0.00\n",
            "33      ind_deco_fin_ult1                0.00\n",
            "36      ind_ecue_fin_ult1                0.00\n",
            "37      ind_fond_fin_ult1                0.00\n",
            "34      ind_deme_fin_ult1                0.00\n",
            "35      ind_dela_fin_ult1                0.00\n",
            "39      ind_plan_fin_ult1                0.00\n",
            "38       ind_hip_fin_ult1                0.00\n",
            "40      ind_pres_fin_ult1                0.00\n",
            "41      ind_reca_fin_ult1                0.00\n",
            "43      ind_valo_fin_ult1                0.00\n",
            "42      ind_tjcr_fin_ult1                0.00\n",
            "44       ind_viv_fin_ult1                0.00\n",
            "47        ind_recibo_ult1                0.00\n"
          ]
        }
      ],
      "source": [
        "missing_percentage = (df.isnull().sum() / len(df)) * 100\n",
        "\n",
        "missing_df = pd.DataFrame({'Column': missing_percentage.index, 'Missing Percentage': missing_percentage.values})\n",
        "\n",
        "missing_df = missing_df.sort_values(by='Missing Percentage', ascending=False)\n",
        "\n",
        "print(missing_df)"
      ]
    },
    {
      "cell_type": "code",
      "execution_count": null,
      "id": "8816d53a-d92c-499b-9062-ed87b269ba4e",
      "metadata": {
        "id": "8816d53a-d92c-499b-9062-ed87b269ba4e"
      },
      "outputs": [],
      "source": [
        "### Will drop the first 2 columns because the % of missing is too high...\n",
        "## Might translate the columns to save time switching tabs"
      ]
    },
    {
      "cell_type": "code",
      "execution_count": null,
      "id": "08c3291f-ad87-402c-bd3e-a7327189d0b6",
      "metadata": {
        "id": "08c3291f-ad87-402c-bd3e-a7327189d0b6",
        "outputId": "5d0104d9-13fc-4b27-a0cb-848a8fcd6ed0"
      },
      "outputs": [
        {
          "name": "stdout",
          "output_type": "stream",
          "text": [
            "   fecha_dato  ncodpers ind_empleado pais_residencia sexo  age  fecha_alta  \\\n",
            "0  2015-01-28   1375586            N              ES    H   35  2015-01-12   \n",
            "1  2015-01-28   1050611            N              ES    V   23  2012-08-10   \n",
            "2  2015-01-28   1050612            N              ES    V   23  2012-08-10   \n",
            "3  2015-01-28   1050613            N              ES    H   22  2012-08-10   \n",
            "4  2015-01-28   1050614            N              ES    V   23  2012-08-10   \n",
            "\n",
            "   ind_nuevo antiguedad  indrel  ...  ind_hip_fin_ult1 ind_plan_fin_ult1  \\\n",
            "0        0.0          6     1.0  ...                 0                 0   \n",
            "1        0.0         35     1.0  ...                 0                 0   \n",
            "2        0.0         35     1.0  ...                 0                 0   \n",
            "3        0.0         35     1.0  ...                 0                 0   \n",
            "4        0.0         35     1.0  ...                 0                 0   \n",
            "\n",
            "  ind_pres_fin_ult1 ind_reca_fin_ult1 ind_tjcr_fin_ult1 ind_valo_fin_ult1  \\\n",
            "0                 0                 0                 0                 0   \n",
            "1                 0                 0                 0                 0   \n",
            "2                 0                 0                 0                 0   \n",
            "3                 0                 0                 0                 0   \n",
            "4                 0                 0                 0                 0   \n",
            "\n",
            "   ind_viv_fin_ult1  ind_nomina_ult1 ind_nom_pens_ult1  ind_recibo_ult1  \n",
            "0                 0              0.0               0.0                0  \n",
            "1                 0              0.0               0.0                0  \n",
            "2                 0              0.0               0.0                0  \n",
            "3                 0              0.0               0.0                0  \n",
            "4                 0              0.0               0.0                0  \n",
            "\n",
            "[5 rows x 46 columns]\n"
          ]
        }
      ],
      "source": [
        "## df1 aka dropping the nan columns...\n",
        "\n",
        "columns_to_drop = ['conyuemp', 'ult_fec_cli_1t']\n",
        "df1 = df.drop(columns=columns_to_drop)\n",
        "\n",
        "print(df1.head())\n"
      ]
    },
    {
      "cell_type": "code",
      "execution_count": null,
      "id": "7644f819-2f84-4f90-a63f-1bfe621b6695",
      "metadata": {
        "id": "7644f819-2f84-4f90-a63f-1bfe621b6695"
      },
      "outputs": [],
      "source": [
        "# Dropped also the unnessary columns like the ID and province since we have other columns that are specific,\n",
        "# like rent can tell more about the cost of living more.\n",
        "# There's also columns stating whether they are foreign or not and their primary address."
      ]
    },
    {
      "cell_type": "code",
      "execution_count": null,
      "id": "54d55497-9a45-4596-ab4b-d82278b07958",
      "metadata": {
        "id": "54d55497-9a45-4596-ab4b-d82278b07958",
        "outputId": "de71fe71-d407-4599-c8b4-5f83e3206a9f"
      },
      "outputs": [
        {
          "name": "stdout",
          "output_type": "stream",
          "text": [
            "Number of features: 46\n",
            "\n",
            "Numerical Features:\n",
            "['ncodpers', 'ind_nuevo', 'indrel', 'indrel_1mes', 'tipodom', 'cod_prov', 'ind_actividad_cliente', 'renta', 'ind_ahor_fin_ult1', 'ind_aval_fin_ult1', 'ind_cco_fin_ult1', 'ind_cder_fin_ult1', 'ind_cno_fin_ult1', 'ind_ctju_fin_ult1', 'ind_ctma_fin_ult1', 'ind_ctop_fin_ult1', 'ind_ctpp_fin_ult1', 'ind_deco_fin_ult1', 'ind_deme_fin_ult1', 'ind_dela_fin_ult1', 'ind_ecue_fin_ult1', 'ind_fond_fin_ult1', 'ind_hip_fin_ult1', 'ind_plan_fin_ult1', 'ind_pres_fin_ult1', 'ind_reca_fin_ult1', 'ind_tjcr_fin_ult1', 'ind_valo_fin_ult1', 'ind_viv_fin_ult1', 'ind_nomina_ult1', 'ind_nom_pens_ult1', 'ind_recibo_ult1']\n",
            "\n",
            "Categorical Features:\n",
            "['fecha_dato', 'ind_empleado', 'pais_residencia', 'sexo', 'age', 'fecha_alta', 'antiguedad', 'tiprel_1mes', 'indresi', 'indext', 'canal_entrada', 'indfall', 'nomprov', 'segmento']\n"
          ]
        }
      ],
      "source": [
        "num_features = len(df1.columns)\n",
        "\n",
        "numerical_features = []\n",
        "categorical_features = []\n",
        "\n",
        "for column in df1.columns:\n",
        "    if df1[column].dtype == 'object':\n",
        "        categorical_features.append(column)\n",
        "    else:\n",
        "        numerical_features.append(column)\n",
        "\n",
        "print(f\"Number of features: {num_features}\")\n",
        "print(\"\\nNumerical Features:\")\n",
        "print(numerical_features)\n",
        "print(\"\\nCategorical Features:\")\n",
        "print(categorical_features)\n"
      ]
    },
    {
      "cell_type": "code",
      "execution_count": null,
      "id": "aea90ddc-82d2-44bf-b93e-57370d858cd3",
      "metadata": {
        "id": "aea90ddc-82d2-44bf-b93e-57370d858cd3"
      },
      "outputs": [],
      "source": [
        "# The age (Age) and antiguedad (Customer seniority in months) are numerical based on the description\n",
        "# but they were counted as categorical... I feel like it is important so I am going to keep it"
      ]
    },
    {
      "cell_type": "code",
      "execution_count": null,
      "id": "b425dfb6-9a63-4663-ae3b-db6b66e37ba7",
      "metadata": {
        "id": "b425dfb6-9a63-4663-ae3b-db6b66e37ba7",
        "outputId": "75c1c02a-ba55-40cf-da96-952305b9cc3f"
      },
      "outputs": [
        {
          "name": "stdout",
          "output_type": "stream",
          "text": [
            "Number of features: 46\n",
            "\n",
            "Numerical Features:\n",
            "['ncodpers', 'ind_nuevo', 'indrel', 'indrel_1mes', 'tipodom', 'cod_prov', 'ind_actividad_cliente', 'renta', 'ind_ahor_fin_ult1', 'ind_aval_fin_ult1', 'ind_cco_fin_ult1', 'ind_cder_fin_ult1', 'ind_cno_fin_ult1', 'ind_ctju_fin_ult1', 'ind_ctma_fin_ult1', 'ind_ctop_fin_ult1', 'ind_ctpp_fin_ult1', 'ind_deco_fin_ult1', 'ind_deme_fin_ult1', 'ind_dela_fin_ult1', 'ind_ecue_fin_ult1', 'ind_fond_fin_ult1', 'ind_hip_fin_ult1', 'ind_plan_fin_ult1', 'ind_pres_fin_ult1', 'ind_reca_fin_ult1', 'ind_tjcr_fin_ult1', 'ind_valo_fin_ult1', 'ind_viv_fin_ult1', 'ind_nomina_ult1', 'ind_nom_pens_ult1', 'ind_recibo_ult1', 'age', 'antiguedad']\n",
            "\n",
            "Categorical Features:\n",
            "['fecha_dato', 'ind_empleado', 'pais_residencia', 'sexo', 'fecha_alta', 'tiprel_1mes', 'indresi', 'indext', 'canal_entrada', 'indfall', 'nomprov', 'segmento']\n"
          ]
        }
      ],
      "source": [
        "### changing the age and customer seniority to numerical features...\n",
        "\n",
        "if 'age' in categorical_features:\n",
        "    categorical_features.remove('age')\n",
        "    numerical_features.append('age')\n",
        "if 'antiguedad' in categorical_features:\n",
        "    categorical_features.remove('antiguedad')\n",
        "    numerical_features.append('antiguedad')\n",
        "\n",
        "print(f\"Number of features: {num_features}\")\n",
        "print(\"\\nNumerical Features:\")\n",
        "print(numerical_features)\n",
        "print(\"\\nCategorical Features:\")\n",
        "print(categorical_features)"
      ]
    },
    {
      "cell_type": "code",
      "execution_count": null,
      "id": "e8757c86-3329-4144-a51a-38a230cf566a",
      "metadata": {
        "id": "e8757c86-3329-4144-a51a-38a230cf566a",
        "outputId": "aafe38d1-f056-4137-9c06-33f3fdc69676"
      },
      "outputs": [
        {
          "name": "stdout",
          "output_type": "stream",
          "text": [
            "   ncodpers  ind_nuevo  indrel  indrel_1mes  tipodom  cod_prov  \\\n",
            "0   1375586        0.0     1.0          1.0      1.0      29.0   \n",
            "1   1050611        0.0     1.0          1.0      1.0      13.0   \n",
            "2   1050612        0.0     1.0          1.0      1.0      13.0   \n",
            "3   1050613        0.0     1.0          1.0      1.0      50.0   \n",
            "4   1050614        0.0     1.0          1.0      1.0      50.0   \n",
            "\n",
            "   ind_actividad_cliente      renta  ind_ahor_fin_ult1  ind_aval_fin_ult1  \\\n",
            "0                    1.0   87218.10                  0                  0   \n",
            "1                    0.0   35548.74                  0                  0   \n",
            "2                    0.0  122179.11                  0                  0   \n",
            "3                    0.0  119775.54                  0                  0   \n",
            "4                    1.0        NaN                  0                  0   \n",
            "\n",
            "   ...  ind_pres_fin_ult1  ind_reca_fin_ult1  ind_tjcr_fin_ult1  \\\n",
            "0  ...                  0                  0                  0   \n",
            "1  ...                  0                  0                  0   \n",
            "2  ...                  0                  0                  0   \n",
            "3  ...                  0                  0                  0   \n",
            "4  ...                  0                  0                  0   \n",
            "\n",
            "   ind_valo_fin_ult1  ind_viv_fin_ult1  ind_nomina_ult1  ind_nom_pens_ult1  \\\n",
            "0                  0                 0              0.0                0.0   \n",
            "1                  0                 0              0.0                0.0   \n",
            "2                  0                 0              0.0                0.0   \n",
            "3                  0                 0              0.0                0.0   \n",
            "4                  0                 0              0.0                0.0   \n",
            "\n",
            "   ind_recibo_ult1  age  antiguedad  \n",
            "0                0   35           6  \n",
            "1                0   23          35  \n",
            "2                0   23          35  \n",
            "3                0   22          35  \n",
            "4                0   23          35  \n",
            "\n",
            "[5 rows x 34 columns]\n"
          ]
        }
      ],
      "source": [
        "## just want to check if the numerical features have only numbers before I proceed\n",
        "numerical_df1 = df1[numerical_features]\n",
        "print(numerical_df1.head())"
      ]
    },
    {
      "cell_type": "code",
      "execution_count": null,
      "id": "2454724d-6077-4721-813d-d343cabf31c5",
      "metadata": {
        "id": "2454724d-6077-4721-813d-d343cabf31c5",
        "outputId": "e57e2042-eb32-49e0-ef05-d597b5dda0d8"
      },
      "outputs": [
        {
          "name": "stdout",
          "output_type": "stream",
          "text": [
            "Smallest and Largest Values of Numerical Features:\n",
            "\n",
            "     ncodpers  ind_nuevo  indrel  indrel_1mes  tipodom  cod_prov  \\\n",
            "min   1042162        0.0     1.0          1.0      1.0       1.0   \n",
            "max   1375586        1.0    99.0          1.0      1.0      52.0   \n",
            "\n",
            "     ind_actividad_cliente       renta  ind_ahor_fin_ult1  ind_aval_fin_ult1  \\\n",
            "min                    0.0     8034.15                  0                  0   \n",
            "max                    1.0  5649552.45                  0                  0   \n",
            "\n",
            "     ...  ind_pres_fin_ult1  ind_reca_fin_ult1  ind_tjcr_fin_ult1  \\\n",
            "min  ...                  0                  0                  0   \n",
            "max  ...                  1                  1                  1   \n",
            "\n",
            "     ind_valo_fin_ult1  ind_viv_fin_ult1  ind_nomina_ult1  ind_nom_pens_ult1  \\\n",
            "min                  0                 0              0.0                0.0   \n",
            "max                  1                 0              1.0                1.0   \n",
            "\n",
            "     ind_recibo_ult1  age  antiguedad  \n",
            "min                0    4           1  \n",
            "max                1   NA          NA  \n",
            "\n",
            "[2 rows x 34 columns]\n"
          ]
        }
      ],
      "source": [
        "## checking smallest and largest value of each column\n",
        "\n",
        "feature_min_max = numerical_df1.agg(['min', 'max'])\n",
        "\n",
        "print(\"Smallest and Largest Values of Numerical Features:\\n\")\n",
        "\n",
        "print(feature_min_max)"
      ]
    },
    {
      "cell_type": "code",
      "execution_count": null,
      "id": "445440e0-8ae2-45b0-bf85-28e638f0e696",
      "metadata": {
        "id": "445440e0-8ae2-45b0-bf85-28e638f0e696",
        "outputId": "ac25ef13-b85a-4c8d-9340-4635aada9eab"
      },
      "outputs": [
        {
          "name": "stdout",
          "output_type": "stream",
          "text": [
            "0        6.0\n",
            "1       35.0\n",
            "2       35.0\n",
            "3       35.0\n",
            "4       35.0\n",
            "        ... \n",
            "9995    34.0\n",
            "9996    34.0\n",
            "9997    34.0\n",
            "9998    34.0\n",
            "9999    34.0\n",
            "Name: antiguedad, Length: 10000, dtype: float64\n"
          ]
        }
      ],
      "source": [
        "### The range for their respectable categories makes sense based on their description, but the\n",
        "# antiguedad aka Customer seniority (in months), the min is -999999.0\n",
        "# I'm going to change all the negatives to zeros in this column...\n",
        "\n",
        "df1['antiguedad'] = pd.to_numeric(df1['antiguedad'], errors='coerce')\n",
        "\n",
        "df1['antiguedad'] = df1['antiguedad'].apply(lambda x: max(0, x))\n",
        "\n",
        "print(df1['antiguedad'])"
      ]
    },
    {
      "cell_type": "code",
      "execution_count": null,
      "id": "0875795e-2d05-4e17-a553-84a09e54681f",
      "metadata": {
        "id": "0875795e-2d05-4e17-a553-84a09e54681f",
        "outputId": "04ff420e-c66f-4785-815b-e2e4269050bc"
      },
      "outputs": [
        {
          "name": "stdout",
          "output_type": "stream",
          "text": [
            "Minimum value of 'antiguedad': 0.0\n",
            "Maximum value of 'antiguedad': 35.0\n"
          ]
        }
      ],
      "source": [
        "print(\"Minimum value of 'antiguedad':\", df1['antiguedad'].min())\n",
        "print(\"Maximum value of 'antiguedad':\", df1['antiguedad'].max())"
      ]
    },
    {
      "cell_type": "code",
      "execution_count": null,
      "id": "31f2a27e-e44f-4fdf-8fd1-deca4e181de1",
      "metadata": {
        "id": "31f2a27e-e44f-4fdf-8fd1-deca4e181de1"
      },
      "outputs": [],
      "source": [
        "## Max is 35 months and min is 0 months"
      ]
    },
    {
      "cell_type": "code",
      "execution_count": null,
      "id": "beb313ae-f3ec-48a6-ae36-01aa67f3a55d",
      "metadata": {
        "id": "beb313ae-f3ec-48a6-ae36-01aa67f3a55d"
      },
      "outputs": [],
      "source": [
        "### Checking the categorical only has letters and not numbers"
      ]
    },
    {
      "cell_type": "code",
      "execution_count": null,
      "id": "7fa807d3-9a08-48fd-8963-2102a56f04a4",
      "metadata": {
        "id": "7fa807d3-9a08-48fd-8963-2102a56f04a4",
        "outputId": "d4b44a96-6bd6-4cb7-f646-644c2a7ebcef"
      },
      "outputs": [
        {
          "name": "stdout",
          "output_type": "stream",
          "text": [
            "   fecha_dato ind_empleado pais_residencia sexo  fecha_alta tiprel_1mes  \\\n",
            "0  2015-01-28            N              ES    H  2015-01-12           A   \n",
            "1  2015-01-28            N              ES    V  2012-08-10           I   \n",
            "2  2015-01-28            N              ES    V  2012-08-10           I   \n",
            "3  2015-01-28            N              ES    H  2012-08-10           I   \n",
            "4  2015-01-28            N              ES    V  2012-08-10           A   \n",
            "\n",
            "  indresi indext canal_entrada indfall      nomprov            segmento  \n",
            "0       S      N           KHL       N       MALAGA   02 - PARTICULARES  \n",
            "1       S      S           KHE       N  CIUDAD REAL  03 - UNIVERSITARIO  \n",
            "2       S      N           KHE       N  CIUDAD REAL  03 - UNIVERSITARIO  \n",
            "3       S      N           KHD       N     ZARAGOZA  03 - UNIVERSITARIO  \n",
            "4       S      N           KHE       N     ZARAGOZA  03 - UNIVERSITARIO  \n"
          ]
        }
      ],
      "source": [
        "categorical_df1= df1[categorical_features]\n",
        "print(categorical_df1.head())"
      ]
    },
    {
      "cell_type": "code",
      "execution_count": null,
      "id": "1b7290ac-c64d-4e6d-b933-5d96c1a2d141",
      "metadata": {
        "id": "1b7290ac-c64d-4e6d-b933-5d96c1a2d141",
        "outputId": "c46ce18e-aa9a-4930-da8c-6d5d46247475"
      },
      "outputs": [
        {
          "name": "stdout",
          "output_type": "stream",
          "text": [
            "   fecha_dato  ncodpers ind_empleado pais_residencia sexo  age  fecha_alta  \\\n",
            "0  2015-01-28   1375586            N              ES    H   35  2015-01-12   \n",
            "1  2015-01-28   1050611            N              ES    V   23  2012-08-10   \n",
            "2  2015-01-28   1050612            N              ES    V   23  2012-08-10   \n",
            "3  2015-01-28   1050613            N              ES    H   22  2012-08-10   \n",
            "4  2015-01-28   1050614            N              ES    V   23  2012-08-10   \n",
            "\n",
            "   ind_nuevo  antiguedad  indrel  ...  ind_hip_fin_ult1 ind_plan_fin_ult1  \\\n",
            "0        0.0         6.0     1.0  ...                 0                 0   \n",
            "1        0.0        35.0     1.0  ...                 0                 0   \n",
            "2        0.0        35.0     1.0  ...                 0                 0   \n",
            "3        0.0        35.0     1.0  ...                 0                 0   \n",
            "4        0.0        35.0     1.0  ...                 0                 0   \n",
            "\n",
            "  ind_pres_fin_ult1 ind_reca_fin_ult1 ind_tjcr_fin_ult1 ind_valo_fin_ult1  \\\n",
            "0                 0                 0                 0                 0   \n",
            "1                 0                 0                 0                 0   \n",
            "2                 0                 0                 0                 0   \n",
            "3                 0                 0                 0                 0   \n",
            "4                 0                 0                 0                 0   \n",
            "\n",
            "   ind_viv_fin_ult1  ind_nomina_ult1 ind_nom_pens_ult1  ind_recibo_ult1  \n",
            "0                 0              0.0               0.0                0  \n",
            "1                 0              0.0               0.0                0  \n",
            "2                 0              0.0               0.0                0  \n",
            "3                 0              0.0               0.0                0  \n",
            "4                 0              0.0               0.0                0  \n",
            "\n",
            "[5 rows x 46 columns]\n"
          ]
        }
      ],
      "source": [
        "print(df1.head())"
      ]
    },
    {
      "cell_type": "code",
      "execution_count": null,
      "id": "ba12baa7-30d9-45ff-9910-066d6ae7d1d4",
      "metadata": {
        "id": "ba12baa7-30d9-45ff-9910-066d6ae7d1d4",
        "outputId": "15a34e18-5856-4030-f7f4-1488d3bcca98"
      },
      "outputs": [
        {
          "name": "stdout",
          "output_type": "stream",
          "text": [
            "Updated Categorical Features:\n",
            "['fecha_dato', 'ind_empleado', 'pais_residencia', 'sexo', 'fecha_alta', 'tiprel_1mes', 'indresi', 'indext', 'canal_entrada', 'indfall', 'nomprov', 'segmento']\n"
          ]
        }
      ],
      "source": [
        "print(\"Updated Categorical Features:\")\n",
        "print(categorical_features)"
      ]
    },
    {
      "cell_type": "code",
      "execution_count": null,
      "id": "286a0a41-39f1-4e40-901b-2af44e02dff3",
      "metadata": {
        "id": "286a0a41-39f1-4e40-901b-2af44e02dff3",
        "outputId": "b424f62c-1f6b-4a22-b00e-a5e1d2801eb1"
      },
      "outputs": [
        {
          "name": "stdout",
          "output_type": "stream",
          "text": [
            "           ncodpers    ind_nuevo       indrel  indrel_1mes  tipodom  \\\n",
            "count  1.000000e+04  9950.000000  9950.000000       9950.0   9950.0   \n",
            "mean   1.049352e+06     0.000402     1.118191          1.0      1.0   \n",
            "std    5.917693e+03     0.020047     3.401457          0.0      0.0   \n",
            "min    1.042162e+06     0.000000     1.000000          1.0      1.0   \n",
            "25%    1.045408e+06     0.000000     1.000000          1.0      1.0   \n",
            "50%    1.048608e+06     0.000000     1.000000          1.0      1.0   \n",
            "75%    1.052755e+06     0.000000     1.000000          1.0      1.0   \n",
            "max    1.375586e+06     1.000000    99.000000          1.0      1.0   \n",
            "\n",
            "          cod_prov  ind_actividad_cliente         renta  ind_ahor_fin_ult1  \\\n",
            "count  9946.000000            9950.000000  8.101000e+03            10000.0   \n",
            "mean     24.485622               0.420000  1.098319e+05                0.0   \n",
            "std      14.730467               0.493583  1.074766e+05                0.0   \n",
            "min       1.000000               0.000000  8.034150e+03                0.0   \n",
            "25%      10.000000               0.000000  6.131088e+04                0.0   \n",
            "50%      26.000000               0.000000  8.783934e+04                0.0   \n",
            "75%      37.000000               1.000000  1.292943e+05                0.0   \n",
            "max      52.000000               1.000000  5.649552e+06                0.0   \n",
            "\n",
            "       ind_aval_fin_ult1  ...  ind_plan_fin_ult1  ind_pres_fin_ult1  \\\n",
            "count            10000.0  ...       10000.000000       10000.000000   \n",
            "mean                 0.0  ...           0.000600           0.000200   \n",
            "std                  0.0  ...           0.024489           0.014141   \n",
            "min                  0.0  ...           0.000000           0.000000   \n",
            "25%                  0.0  ...           0.000000           0.000000   \n",
            "50%                  0.0  ...           0.000000           0.000000   \n",
            "75%                  0.0  ...           0.000000           0.000000   \n",
            "max                  0.0  ...           1.000000           1.000000   \n",
            "\n",
            "       ind_reca_fin_ult1  ind_tjcr_fin_ult1  ind_valo_fin_ult1  \\\n",
            "count       10000.000000       10000.000000       10000.000000   \n",
            "mean            0.010600           0.010900           0.003200   \n",
            "std             0.102414           0.103838           0.056481   \n",
            "min             0.000000           0.000000           0.000000   \n",
            "25%             0.000000           0.000000           0.000000   \n",
            "50%             0.000000           0.000000           0.000000   \n",
            "75%             0.000000           0.000000           0.000000   \n",
            "max             1.000000           1.000000           1.000000   \n",
            "\n",
            "       ind_viv_fin_ult1  ind_nomina_ult1  ind_nom_pens_ult1  ind_recibo_ult1  \\\n",
            "count           10000.0      9989.000000        9989.000000     10000.000000   \n",
            "mean                0.0         0.021824           0.024026         0.079600   \n",
            "std                 0.0         0.146116           0.153139         0.270686   \n",
            "min                 0.0         0.000000           0.000000         0.000000   \n",
            "25%                 0.0         0.000000           0.000000         0.000000   \n",
            "50%                 0.0         0.000000           0.000000         0.000000   \n",
            "75%                 0.0         0.000000           0.000000         0.000000   \n",
            "max                 0.0         1.000000           1.000000         1.000000   \n",
            "\n",
            "         antiguedad  \n",
            "count  10000.000000  \n",
            "mean      34.575900  \n",
            "std        2.902323  \n",
            "min        0.000000  \n",
            "25%       35.000000  \n",
            "50%       35.000000  \n",
            "75%       35.000000  \n",
            "max       35.000000  \n",
            "\n",
            "[8 rows x 33 columns]\n"
          ]
        }
      ],
      "source": [
        "import matplotlib.pyplot as plt\n",
        "import seaborn as sns\n",
        "\n",
        "# Summary statistics\n",
        "print(df1[numerical_features].describe())"
      ]
    },
    {
      "cell_type": "code",
      "execution_count": null,
      "id": "f88753c8-5946-48f0-9acd-81c190a24926",
      "metadata": {
        "id": "f88753c8-5946-48f0-9acd-81c190a24926",
        "outputId": "4d321456-db48-4ec1-d801-1699d4cb3ee3"
      },
      "outputs": [
        {
          "name": "stdout",
          "output_type": "stream",
          "text": [
            "Missing Values Count (Sorted):\n",
            "renta                    1899\n",
            "cod_prov                   54\n",
            "nomprov                    54\n",
            "sexo                       50\n",
            "pais_residencia            50\n",
            "ind_empleado               50\n",
            "indresi                    50\n",
            "tiprel_1mes                50\n",
            "indext                     50\n",
            "indrel_1mes                50\n",
            "canal_entrada              50\n",
            "indrel                     50\n",
            "ind_nuevo                  50\n",
            "fecha_alta                 50\n",
            "tipodom                    50\n",
            "indfall                    50\n",
            "ind_actividad_cliente      50\n",
            "segmento                   50\n",
            "ind_nom_pens_ult1          11\n",
            "ind_nomina_ult1            11\n",
            "ncodpers                    0\n",
            "age                         0\n",
            "antiguedad                  0\n",
            "fecha_dato                  0\n",
            "ind_ahor_fin_ult1           0\n",
            "ind_aval_fin_ult1           0\n",
            "ind_cno_fin_ult1            0\n",
            "ind_ctju_fin_ult1           0\n",
            "ind_cco_fin_ult1            0\n",
            "ind_cder_fin_ult1           0\n",
            "ind_ctop_fin_ult1           0\n",
            "ind_ctma_fin_ult1           0\n",
            "ind_ctpp_fin_ult1           0\n",
            "ind_deco_fin_ult1           0\n",
            "ind_ecue_fin_ult1           0\n",
            "ind_fond_fin_ult1           0\n",
            "ind_deme_fin_ult1           0\n",
            "ind_dela_fin_ult1           0\n",
            "ind_plan_fin_ult1           0\n",
            "ind_hip_fin_ult1            0\n",
            "ind_pres_fin_ult1           0\n",
            "ind_reca_fin_ult1           0\n",
            "ind_valo_fin_ult1           0\n",
            "ind_tjcr_fin_ult1           0\n",
            "ind_viv_fin_ult1            0\n",
            "ind_recibo_ult1             0\n",
            "dtype: int64\n",
            "\n",
            "Potential Outliers:\n",
            "                         count          mean            std         min  \\\n",
            "ncodpers               10000.0  1.049352e+06    5917.693059  1042162.00   \n",
            "ind_nuevo               9950.0  4.020101e-04       0.020047        0.00   \n",
            "antiguedad             10000.0  3.457590e+01       2.902323        0.00   \n",
            "indrel                  9950.0  1.118191e+00       3.401457        1.00   \n",
            "indrel_1mes             9950.0  1.000000e+00       0.000000        1.00   \n",
            "tipodom                 9950.0  1.000000e+00       0.000000        1.00   \n",
            "cod_prov                9946.0  2.448562e+01      14.730467        1.00   \n",
            "ind_actividad_cliente   9950.0  4.200000e-01       0.493583        0.00   \n",
            "renta                   8101.0  1.098319e+05  107476.642433     8034.15   \n",
            "ind_ahor_fin_ult1      10000.0  0.000000e+00       0.000000        0.00   \n",
            "ind_aval_fin_ult1      10000.0  0.000000e+00       0.000000        0.00   \n",
            "ind_cco_fin_ult1       10000.0  9.296000e-01       0.255833        0.00   \n",
            "ind_cder_fin_ult1      10000.0  0.000000e+00       0.000000        0.00   \n",
            "ind_cno_fin_ult1       10000.0  3.690000e-02       0.188526        0.00   \n",
            "ind_ctju_fin_ult1      10000.0  6.700000e-03       0.081583        0.00   \n",
            "ind_ctma_fin_ult1      10000.0  1.200000e-03       0.034622        0.00   \n",
            "ind_ctop_fin_ult1      10000.0  0.000000e+00       0.000000        0.00   \n",
            "ind_ctpp_fin_ult1      10000.0  0.000000e+00       0.000000        0.00   \n",
            "ind_deco_fin_ult1      10000.0  3.000000e-04       0.017319        0.00   \n",
            "ind_deme_fin_ult1      10000.0  2.000000e-04       0.014141        0.00   \n",
            "ind_dela_fin_ult1      10000.0  8.500000e-03       0.091807        0.00   \n",
            "ind_ecue_fin_ult1      10000.0  6.330000e-02       0.243514        0.00   \n",
            "ind_fond_fin_ult1      10000.0  2.200000e-03       0.046855        0.00   \n",
            "ind_hip_fin_ult1       10000.0  2.000000e-04       0.014141        0.00   \n",
            "ind_plan_fin_ult1      10000.0  6.000000e-04       0.024489        0.00   \n",
            "ind_pres_fin_ult1      10000.0  2.000000e-04       0.014141        0.00   \n",
            "ind_reca_fin_ult1      10000.0  1.060000e-02       0.102414        0.00   \n",
            "ind_tjcr_fin_ult1      10000.0  1.090000e-02       0.103838        0.00   \n",
            "ind_valo_fin_ult1      10000.0  3.200000e-03       0.056481        0.00   \n",
            "ind_viv_fin_ult1       10000.0  0.000000e+00       0.000000        0.00   \n",
            "ind_nomina_ult1         9989.0  2.182401e-02       0.146116        0.00   \n",
            "ind_nom_pens_ult1       9989.0  2.402643e-02       0.153139        0.00   \n",
            "ind_recibo_ult1        10000.0  7.960000e-02       0.270686        0.00   \n",
            "\n",
            "                              25%         50%         75%         max  \n",
            "ncodpers               1045407.75  1048608.50  1052755.25  1375586.00  \n",
            "ind_nuevo                    0.00        0.00        0.00        1.00  \n",
            "antiguedad                  35.00       35.00       35.00       35.00  \n",
            "indrel                       1.00        1.00        1.00       99.00  \n",
            "indrel_1mes                  1.00        1.00        1.00        1.00  \n",
            "tipodom                      1.00        1.00        1.00        1.00  \n",
            "cod_prov                    10.00       26.00       37.00       52.00  \n",
            "ind_actividad_cliente        0.00        0.00        1.00        1.00  \n",
            "renta                    61310.88    87839.34   129294.30  5649552.45  \n",
            "ind_ahor_fin_ult1            0.00        0.00        0.00        0.00  \n",
            "ind_aval_fin_ult1            0.00        0.00        0.00        0.00  \n",
            "ind_cco_fin_ult1             1.00        1.00        1.00        1.00  \n",
            "ind_cder_fin_ult1            0.00        0.00        0.00        0.00  \n",
            "ind_cno_fin_ult1             0.00        0.00        0.00        1.00  \n",
            "ind_ctju_fin_ult1            0.00        0.00        0.00        1.00  \n",
            "ind_ctma_fin_ult1            0.00        0.00        0.00        1.00  \n",
            "ind_ctop_fin_ult1            0.00        0.00        0.00        0.00  \n",
            "ind_ctpp_fin_ult1            0.00        0.00        0.00        0.00  \n",
            "ind_deco_fin_ult1            0.00        0.00        0.00        1.00  \n",
            "ind_deme_fin_ult1            0.00        0.00        0.00        1.00  \n",
            "ind_dela_fin_ult1            0.00        0.00        0.00        1.00  \n",
            "ind_ecue_fin_ult1            0.00        0.00        0.00        1.00  \n",
            "ind_fond_fin_ult1            0.00        0.00        0.00        1.00  \n",
            "ind_hip_fin_ult1             0.00        0.00        0.00        1.00  \n",
            "ind_plan_fin_ult1            0.00        0.00        0.00        1.00  \n",
            "ind_pres_fin_ult1            0.00        0.00        0.00        1.00  \n",
            "ind_reca_fin_ult1            0.00        0.00        0.00        1.00  \n",
            "ind_tjcr_fin_ult1            0.00        0.00        0.00        1.00  \n",
            "ind_valo_fin_ult1            0.00        0.00        0.00        1.00  \n",
            "ind_viv_fin_ult1             0.00        0.00        0.00        0.00  \n",
            "ind_nomina_ult1              0.00        0.00        0.00        1.00  \n",
            "ind_nom_pens_ult1            0.00        0.00        0.00        1.00  \n",
            "ind_recibo_ult1              0.00        0.00        0.00        1.00  \n"
          ]
        }
      ],
      "source": [
        "## Missing values and outliers\n",
        "\n",
        "missing_values_count = df1.isnull().sum()\n",
        "missing_values_count_sorted = missing_values_count.sort_values(ascending=False)\n",
        "\n",
        "outliers = df1.describe().transpose()\n",
        "\n",
        "print(\"Missing Values Count (Sorted):\")\n",
        "print(missing_values_count_sorted)\n",
        "\n",
        "print(\"\\nPotential Outliers:\")\n",
        "print(outliers)"
      ]
    },
    {
      "cell_type": "code",
      "execution_count": null,
      "id": "4e59f0b8-3811-4a1c-a9f1-292e3679542c",
      "metadata": {
        "id": "4e59f0b8-3811-4a1c-a9f1-292e3679542c"
      },
      "outputs": [],
      "source": [
        "### An interesting pattern was the columns that had missing values also\n",
        "## had the same AMOUNT of missing values"
      ]
    },
    {
      "cell_type": "code",
      "execution_count": null,
      "id": "4de7059d-b8b1-4b3b-85b3-403af32827fe",
      "metadata": {
        "id": "4de7059d-b8b1-4b3b-85b3-403af32827fe",
        "outputId": "157214cb-3143-43cc-a790-607c27c6a3d9"
      },
      "outputs": [
        {
          "name": "stdout",
          "output_type": "stream",
          "text": [
            "User-Item Interaction Matrix:\n",
            "  ind_empleado  ind_nuevo  ind_actividad_cliente  ind_ahor_fin_ult1  \\\n",
            "0            0        0.0                    1.0                  0   \n",
            "1            0        0.0                    0.0                  0   \n",
            "2            0        0.0                    0.0                  0   \n",
            "3            0        0.0                    0.0                  0   \n",
            "4            0        0.0                    1.0                  0   \n",
            "\n",
            "   ind_aval_fin_ult1  ind_cco_fin_ult1  ind_cder_fin_ult1  ind_cno_fin_ult1  \\\n",
            "0                  0                 1                  0                 0   \n",
            "1                  0                 1                  0                 0   \n",
            "2                  0                 1                  0                 0   \n",
            "3                  0                 0                  0                 0   \n",
            "4                  0                 1                  0                 0   \n",
            "\n",
            "   ind_ctju_fin_ult1  ind_ctma_fin_ult1  ...  ind_plan_fin_ult1  \\\n",
            "0                  0                  0  ...                  0   \n",
            "1                  0                  0  ...                  0   \n",
            "2                  0                  0  ...                  0   \n",
            "3                  0                  0  ...                  0   \n",
            "4                  0                  0  ...                  0   \n",
            "\n",
            "   ind_pres_fin_ult1  ind_reca_fin_ult1  ind_tjcr_fin_ult1  ind_valo_fin_ult1  \\\n",
            "0                  0                  0                  0                  0   \n",
            "1                  0                  0                  0                  0   \n",
            "2                  0                  0                  0                  0   \n",
            "3                  0                  0                  0                  0   \n",
            "4                  0                  0                  0                  0   \n",
            "\n",
            "   ind_viv_fin_ult1  ind_nomina_ult1  ind_nom_pens_ult1  ind_recibo_ult1  \\\n",
            "0                 0              0.0                0.0                0   \n",
            "1                 0              0.0                0.0                0   \n",
            "2                 0              0.0                0.0                0   \n",
            "3                 0              0.0                0.0                0   \n",
            "4                 0              0.0                0.0                0   \n",
            "\n",
            "   checked_services  \n",
            "0               2.0  \n",
            "1               1.0  \n",
            "2               1.0  \n",
            "3               1.0  \n",
            "4               2.0  \n",
            "\n",
            "[5 rows x 28 columns]\n"
          ]
        },
        {
          "name": "stderr",
          "output_type": "stream",
          "text": [
            "/tmp/ipykernel_1085/3131137162.py:14: SettingWithCopyWarning: \n",
            "A value is trying to be set on a copy of a slice from a DataFrame.\n",
            "Try using .loc[row_indexer,col_indexer] = value instead\n",
            "\n",
            "See the caveats in the documentation: https://pandas.pydata.org/pandas-docs/stable/user_guide/indexing.html#returning-a-view-versus-a-copy\n",
            "  target_df1['checked_services'] = target_df1.sum(axis=1)\n"
          ]
        }
      ],
      "source": [
        "from sklearn.preprocessing import LabelEncoder\n",
        "\n",
        "label_encoder = LabelEncoder()\n",
        "\n",
        "# Concatenate the one-hot encoded target columns\n",
        "target_columns = df1.columns[df1.columns.str.startswith('ind_')].tolist()\n",
        "target_df1 = df1[target_columns]\n",
        "\n",
        "# Convert one-hot encoded vectors to label encodings\n",
        "for column in target_df1.columns:\n",
        "    target_df1.loc[:, column] = label_encoder.fit_transform(target_df1[column])\n",
        "\n",
        "# Sum the encoded values across columns to represent the new column\n",
        "target_df1['checked_services'] = target_df1.sum(axis=1)\n",
        "\n",
        "# Create user-item interaction matrix without 'ncodpers' column\n",
        "user_item_matrix = target_df1.copy()\n",
        "\n",
        "# Display the user-item interaction matrix\n",
        "print(\"User-Item Interaction Matrix:\")\n",
        "print(user_item_matrix.head())"
      ]
    },
    {
      "cell_type": "code",
      "execution_count": null,
      "id": "081b92fe-87ba-44f2-8809-c8000d6cce72",
      "metadata": {
        "id": "081b92fe-87ba-44f2-8809-c8000d6cce72",
        "outputId": "d22e1cca-dd4a-45c2-b221-d3d80edcd2aa"
      },
      "outputs": [
        {
          "name": "stdout",
          "output_type": "stream",
          "text": [
            "User-Item Interaction Matrix:\n",
            "+---+--------------+-----------+-----------------------+-------------------+-------------------+------------------+-------------------+------------------+-------------------+-------------------+-------------------+-------------------+-------------------+-------------------+-------------------+-------------------+-------------------+------------------+-------------------+-------------------+-------------------+-------------------+-------------------+------------------+-----------------+-------------------+-----------------+------------------+\n",
            "|   | ind_empleado | ind_nuevo | ind_actividad_cliente | ind_ahor_fin_ult1 | ind_aval_fin_ult1 | ind_cco_fin_ult1 | ind_cder_fin_ult1 | ind_cno_fin_ult1 | ind_ctju_fin_ult1 | ind_ctma_fin_ult1 | ind_ctop_fin_ult1 | ind_ctpp_fin_ult1 | ind_deco_fin_ult1 | ind_deme_fin_ult1 | ind_dela_fin_ult1 | ind_ecue_fin_ult1 | ind_fond_fin_ult1 | ind_hip_fin_ult1 | ind_plan_fin_ult1 | ind_pres_fin_ult1 | ind_reca_fin_ult1 | ind_tjcr_fin_ult1 | ind_valo_fin_ult1 | ind_viv_fin_ult1 | ind_nomina_ult1 | ind_nom_pens_ult1 | ind_recibo_ult1 | checked_services |\n",
            "+---+--------------+-----------+-----------------------+-------------------+-------------------+------------------+-------------------+------------------+-------------------+-------------------+-------------------+-------------------+-------------------+-------------------+-------------------+-------------------+-------------------+------------------+-------------------+-------------------+-------------------+-------------------+-------------------+------------------+-----------------+-------------------+-----------------+------------------+\n",
            "| 0 |      0       |    0.0    |          1.0          |         0         |         0         |        1         |         0         |        0         |         0         |         0         |         0         |         0         |         0         |         0         |         0         |         0         |         0         |        0         |         0         |         0         |         0         |         0         |         0         |        0         |       0.0       |        0.0        |        0        |       2.0        |\n",
            "| 1 |      0       |    0.0    |          0.0          |         0         |         0         |        1         |         0         |        0         |         0         |         0         |         0         |         0         |         0         |         0         |         0         |         0         |         0         |        0         |         0         |         0         |         0         |         0         |         0         |        0         |       0.0       |        0.0        |        0        |       1.0        |\n",
            "| 2 |      0       |    0.0    |          0.0          |         0         |         0         |        1         |         0         |        0         |         0         |         0         |         0         |         0         |         0         |         0         |         0         |         0         |         0         |        0         |         0         |         0         |         0         |         0         |         0         |        0         |       0.0       |        0.0        |        0        |       1.0        |\n",
            "| 3 |      0       |    0.0    |          0.0          |         0         |         0         |        0         |         0         |        0         |         0         |         0         |         0         |         0         |         1         |         0         |         0         |         0         |         0         |        0         |         0         |         0         |         0         |         0         |         0         |        0         |       0.0       |        0.0        |        0        |       1.0        |\n",
            "| 4 |      0       |    0.0    |          1.0          |         0         |         0         |        1         |         0         |        0         |         0         |         0         |         0         |         0         |         0         |         0         |         0         |         0         |         0         |        0         |         0         |         0         |         0         |         0         |         0         |        0         |       0.0       |        0.0        |        0        |       2.0        |\n",
            "+---+--------------+-----------+-----------------------+-------------------+-------------------+------------------+-------------------+------------------+-------------------+-------------------+-------------------+-------------------+-------------------+-------------------+-------------------+-------------------+-------------------+------------------+-------------------+-------------------+-------------------+-------------------+-------------------+------------------+-----------------+-------------------+-----------------+------------------+\n"
          ]
        }
      ],
      "source": [
        "## visualize it\n",
        "\n",
        "from tabulate import tabulate\n",
        "\n",
        "print(\"User-Item Interaction Matrix:\")\n",
        "print(tabulate(user_item_matrix.head(), headers='keys', tablefmt='pretty'))\n"
      ]
    },
    {
      "cell_type": "code",
      "execution_count": null,
      "id": "d75091c0-63a9-429a-8067-ac178137bca4",
      "metadata": {
        "id": "d75091c0-63a9-429a-8067-ac178137bca4",
        "outputId": "794756b3-b680-4a90-d5fd-0f34eb407cb2"
      },
      "outputs": [
        {
          "name": "stdout",
          "output_type": "stream",
          "text": [
            "   fecha_dato  ncodpers ind_empleado pais_residencia sexo  age  fecha_alta  \\\n",
            "0  2015-01-28   1375586            N              ES    H   35  2015-01-12   \n",
            "1  2015-01-28   1050611            N              ES    V   23  2012-08-10   \n",
            "2  2015-01-28   1050612            N              ES    V   23  2012-08-10   \n",
            "3  2015-01-28   1050613            N              ES    H   22  2012-08-10   \n",
            "4  2015-01-28   1050614            N              ES    V   23  2012-08-10   \n",
            "\n",
            "   ind_nuevo  antiguedad  indrel  ...  ind_plan_fin_ult1 ind_pres_fin_ult1  \\\n",
            "0        0.0         6.0     1.0  ...                  0                 0   \n",
            "1        0.0        35.0     1.0  ...                  0                 0   \n",
            "2        0.0        35.0     1.0  ...                  0                 0   \n",
            "3        0.0        35.0     1.0  ...                  0                 0   \n",
            "4        0.0        35.0     1.0  ...                  0                 0   \n",
            "\n",
            "  ind_reca_fin_ult1 ind_tjcr_fin_ult1 ind_valo_fin_ult1 ind_viv_fin_ult1  \\\n",
            "0                 0                 0                 0                0   \n",
            "1                 0                 0                 0                0   \n",
            "2                 0                 0                 0                0   \n",
            "3                 0                 0                 0                0   \n",
            "4                 0                 0                 0                0   \n",
            "\n",
            "   ind_nomina_ult1  ind_nom_pens_ult1 ind_recibo_ult1  checked_services  \n",
            "0              0.0                0.0               0               2.0  \n",
            "1              0.0                0.0               0               1.0  \n",
            "2              0.0                0.0               0               1.0  \n",
            "3              0.0                0.0               0               1.0  \n",
            "4              0.0                0.0               0               2.0  \n",
            "\n",
            "[5 rows x 47 columns]\n",
            "Index(['fecha_dato', 'ncodpers', 'ind_empleado', 'pais_residencia', 'sexo',\n",
            "       'age', 'fecha_alta', 'ind_nuevo', 'antiguedad', 'indrel', 'indrel_1mes',\n",
            "       'tiprel_1mes', 'indresi', 'indext', 'canal_entrada', 'indfall',\n",
            "       'tipodom', 'cod_prov', 'nomprov', 'ind_actividad_cliente', 'renta',\n",
            "       'segmento', 'ind_ahor_fin_ult1', 'ind_aval_fin_ult1',\n",
            "       'ind_cco_fin_ult1', 'ind_cder_fin_ult1', 'ind_cno_fin_ult1',\n",
            "       'ind_ctju_fin_ult1', 'ind_ctma_fin_ult1', 'ind_ctop_fin_ult1',\n",
            "       'ind_ctpp_fin_ult1', 'ind_deco_fin_ult1', 'ind_deme_fin_ult1',\n",
            "       'ind_dela_fin_ult1', 'ind_ecue_fin_ult1', 'ind_fond_fin_ult1',\n",
            "       'ind_hip_fin_ult1', 'ind_plan_fin_ult1', 'ind_pres_fin_ult1',\n",
            "       'ind_reca_fin_ult1', 'ind_tjcr_fin_ult1', 'ind_valo_fin_ult1',\n",
            "       'ind_viv_fin_ult1', 'ind_nomina_ult1', 'ind_nom_pens_ult1',\n",
            "       'ind_recibo_ult1', 'checked_services'],\n",
            "      dtype='object')\n"
          ]
        }
      ],
      "source": [
        "df1['checked_services'] = target_df1['checked_services']\n",
        "\n",
        "print(df1.head())\n",
        "print(df1.columns)"
      ]
    },
    {
      "cell_type": "code",
      "execution_count": null,
      "id": "de337b59-ad62-40f7-a5ba-e2213e4b388d",
      "metadata": {
        "id": "de337b59-ad62-40f7-a5ba-e2213e4b388d"
      },
      "outputs": [],
      "source": [
        "## Might remove the consumers who were below the mean of buying products\n",
        "# but to consider the ones who bought less, I will do 4"
      ]
    },
    {
      "cell_type": "code",
      "execution_count": null,
      "id": "b8e3e0d5-bf9d-4df8-af5c-6f4fefb3842c",
      "metadata": {
        "id": "b8e3e0d5-bf9d-4df8-af5c-6f4fefb3842c",
        "outputId": "b2121847-3f37-4619-b084-f68bbf247093"
      },
      "outputs": [
        {
          "name": "stdout",
          "output_type": "stream",
          "text": [
            "Shape of filtered DataFrame:\n",
            " (274, 47)\n",
            "\n",
            "New Dataset:\n",
            "     fecha_dato  ncodpers ind_empleado pais_residencia sexo  age  fecha_alta  \\\n",
            "68   2015-01-28   1050651            N              ES    H   30  2012-08-10   \n",
            "69   2015-01-28   1050652            N              ES    H   31  2012-08-10   \n",
            "72   2015-01-28   1050659            N              ES    V   39  2012-08-10   \n",
            "121  2015-01-28   1050565            N              ES    H   33  2012-08-10   \n",
            "187  2015-01-28   1050869            N              ES    V   31  2012-08-10   \n",
            "\n",
            "     ind_nuevo  antiguedad  indrel  ...  ind_plan_fin_ult1 ind_pres_fin_ult1  \\\n",
            "68         0.0        35.0     1.0  ...                  0                 0   \n",
            "69         0.0        35.0     1.0  ...                  0                 0   \n",
            "72         0.0        35.0     1.0  ...                  0                 0   \n",
            "121        0.0        35.0     1.0  ...                  0                 0   \n",
            "187        0.0        35.0     1.0  ...                  0                 0   \n",
            "\n",
            "    ind_reca_fin_ult1 ind_tjcr_fin_ult1 ind_valo_fin_ult1 ind_viv_fin_ult1  \\\n",
            "68                  1                 0                 0                0   \n",
            "69                  0                 0                 1                0   \n",
            "72                  1                 1                 0                0   \n",
            "121                 0                 0                 0                0   \n",
            "187                 0                 0                 0                0   \n",
            "\n",
            "     ind_nomina_ult1  ind_nom_pens_ult1 ind_recibo_ult1  checked_services  \n",
            "68               0.0                0.0               1               5.0  \n",
            "69               0.0                0.0               1               5.0  \n",
            "72               1.0                1.0               1               8.0  \n",
            "121              1.0                1.0               1               5.0  \n",
            "187              1.0                1.0               1               6.0  \n",
            "\n",
            "[5 rows x 47 columns]\n"
          ]
        }
      ],
      "source": [
        "threshold = 4\n",
        "\n",
        "new_df = df1[df1['checked_services'] > threshold]\n",
        "\n",
        "print(\"Shape of filtered DataFrame:\\n\", new_df.shape)\n",
        "\n",
        "print(\"\\nNew Dataset:\")\n",
        "print(new_df.head())"
      ]
    },
    {
      "cell_type": "code",
      "execution_count": null,
      "id": "b7c414bf-1e26-4c41-b494-70803eda5df9",
      "metadata": {
        "id": "b7c414bf-1e26-4c41-b494-70803eda5df9",
        "outputId": "89ac93fe-2560-45f4-805f-a1265d3dcae9"
      },
      "outputs": [
        {
          "name": "stdout",
          "output_type": "stream",
          "text": [
            "Numerical Features (35):\n",
            "['ncodpers', 'age', 'ind_nuevo', 'antiguedad', 'indrel', 'indrel_1mes', 'tipodom', 'cod_prov', 'ind_actividad_cliente', 'renta', 'ind_ahor_fin_ult1', 'ind_aval_fin_ult1', 'ind_cco_fin_ult1', 'ind_cder_fin_ult1', 'ind_cno_fin_ult1', 'ind_ctju_fin_ult1', 'ind_ctma_fin_ult1', 'ind_ctop_fin_ult1', 'ind_ctpp_fin_ult1', 'ind_deco_fin_ult1', 'ind_deme_fin_ult1', 'ind_dela_fin_ult1', 'ind_ecue_fin_ult1', 'ind_fond_fin_ult1', 'ind_hip_fin_ult1', 'ind_plan_fin_ult1', 'ind_pres_fin_ult1', 'ind_reca_fin_ult1', 'ind_tjcr_fin_ult1', 'ind_valo_fin_ult1', 'ind_viv_fin_ult1', 'ind_nomina_ult1', 'ind_nom_pens_ult1', 'ind_recibo_ult1', 'checked_services']\n",
            "\n",
            "Categorical Features (12):\n",
            "['fecha_dato', 'ind_empleado', 'pais_residencia', 'sexo', 'fecha_alta', 'tiprel_1mes', 'indresi', 'indext', 'canal_entrada', 'indfall', 'nomprov', 'segmento']\n"
          ]
        }
      ],
      "source": [
        "new_df = new_df.copy()\n",
        "new_df['checked_services'] = pd.to_numeric(new_df['checked_services'], errors='coerce')\n",
        "\n",
        "# Convert 'age' column to numerical\n",
        "new_df['age'] = pd.to_numeric(new_df['age'], errors='coerce')\n",
        "\n",
        "new_num_feat = new_df.select_dtypes(include=['int64', 'float64']).columns.tolist()\n",
        "new_cat_feat = new_df.select_dtypes(include=['object']).columns.tolist()\n",
        "\n",
        "new_numerical_features = len(new_num_feat)\n",
        "new_categorical_features = len(new_cat_feat)\n",
        "\n",
        "print(\"Numerical Features ({}):\".format(new_numerical_features))\n",
        "print(new_num_feat)\n",
        "print(\"\\nCategorical Features ({}):\".format(new_categorical_features))\n",
        "print(new_cat_feat)"
      ]
    },
    {
      "cell_type": "code",
      "execution_count": null,
      "id": "d347f27d-40c0-45ce-8876-3f4187bfa6f0",
      "metadata": {
        "id": "d347f27d-40c0-45ce-8876-3f4187bfa6f0"
      },
      "outputs": [],
      "source": [
        "### Feature Engineering..."
      ]
    },
    {
      "cell_type": "code",
      "execution_count": null,
      "id": "69bb4e83-b9f8-487a-b1f5-fe13f5ff5281",
      "metadata": {
        "id": "69bb4e83-b9f8-487a-b1f5-fe13f5ff5281",
        "outputId": "2f9e6886-e725-4e17-871c-1598cbd9b15e"
      },
      "outputs": [
        {
          "name": "stdout",
          "output_type": "stream",
          "text": [
            "Collecting xgboost\n",
            "  Downloading xgboost-2.1.0-py3-none-manylinux_2_28_x86_64.whl.metadata (2.1 kB)\n",
            "Requirement already satisfied: numpy in /usr/local/lib/python3.10/dist-packages (from xgboost) (1.26.3)\n",
            "Collecting nvidia-nccl-cu12 (from xgboost)\n",
            "  Downloading nvidia_nccl_cu12-2.22.3-py3-none-manylinux2014_x86_64.whl.metadata (1.8 kB)\n",
            "Requirement already satisfied: scipy in /usr/local/lib/python3.10/dist-packages (from xgboost) (1.13.0)\n",
            "Downloading xgboost-2.1.0-py3-none-manylinux_2_28_x86_64.whl (153.9 MB)\n",
            "\u001b[2K   \u001b[90m━━━━━━━━━━━━━━━━━━━━━━━━━━━━━━━━━━━━━━━━\u001b[0m \u001b[32m153.9/153.9 MB\u001b[0m \u001b[31m3.3 MB/s\u001b[0m eta \u001b[36m0:00:00\u001b[0m:00:01\u001b[0m00:01\u001b[0m\n",
            "\u001b[?25hDownloading nvidia_nccl_cu12-2.22.3-py3-none-manylinux2014_x86_64.whl (190.9 MB)\n",
            "\u001b[2K   \u001b[90m━━━━━━━━━━━━━━━━━━━━━━━━━━━━━━━━━━━━━━━━\u001b[0m \u001b[32m190.9/190.9 MB\u001b[0m \u001b[31m2.8 MB/s\u001b[0m eta \u001b[36m0:00:00\u001b[0m:00:01\u001b[0m00:01\u001b[0m\n",
            "\u001b[?25hInstalling collected packages: nvidia-nccl-cu12, xgboost\n",
            "Successfully installed nvidia-nccl-cu12-2.22.3 xgboost-2.1.0\n",
            "\u001b[33mWARNING: Running pip as the 'root' user can result in broken permissions and conflicting behaviour with the system package manager, possibly rendering your system unusable.It is recommended to use a virtual environment instead: https://pip.pypa.io/warnings/venv. Use the --root-user-action option if you know what you are doing and want to suppress this warning.\u001b[0m\u001b[33m\n",
            "\u001b[0m"
          ]
        }
      ],
      "source": [
        "!pip install xgboost"
      ]
    },
    {
      "cell_type": "code",
      "execution_count": null,
      "id": "601d0e86-4f4c-49f1-8b6d-dddaedfaa347",
      "metadata": {
        "id": "601d0e86-4f4c-49f1-8b6d-dddaedfaa347",
        "outputId": "c2e88188-b9f6-488d-c1a1-4a4309d9b221"
      },
      "outputs": [
        {
          "name": "stdout",
          "output_type": "stream",
          "text": [
            "Number of missing values before imputation:\n",
            "fecha_dato                0\n",
            "ncodpers                  0\n",
            "ind_empleado             50\n",
            "pais_residencia          50\n",
            "sexo                     50\n",
            "age                      50\n",
            "fecha_alta               50\n",
            "ind_nuevo                50\n",
            "antiguedad                0\n",
            "indrel                   50\n",
            "indrel_1mes              50\n",
            "tiprel_1mes              50\n",
            "indresi                  50\n",
            "indext                   50\n",
            "canal_entrada            50\n",
            "indfall                  50\n",
            "tipodom                  50\n",
            "cod_prov                 51\n",
            "nomprov                  51\n",
            "ind_actividad_cliente    50\n",
            "renta                    87\n",
            "segmento                 50\n",
            "ind_ahor_fin_ult1         0\n",
            "ind_aval_fin_ult1         0\n",
            "ind_cco_fin_ult1          0\n",
            "ind_cder_fin_ult1         0\n",
            "ind_cno_fin_ult1          0\n",
            "ind_ctju_fin_ult1         0\n",
            "ind_ctma_fin_ult1         0\n",
            "ind_ctop_fin_ult1         0\n",
            "ind_ctpp_fin_ult1         0\n",
            "ind_deco_fin_ult1         0\n",
            "ind_deme_fin_ult1         0\n",
            "ind_dela_fin_ult1         0\n",
            "ind_ecue_fin_ult1         0\n",
            "ind_fond_fin_ult1         0\n",
            "ind_hip_fin_ult1          0\n",
            "ind_plan_fin_ult1         0\n",
            "ind_pres_fin_ult1         0\n",
            "ind_reca_fin_ult1         0\n",
            "ind_tjcr_fin_ult1         0\n",
            "ind_valo_fin_ult1         0\n",
            "ind_viv_fin_ult1          0\n",
            "ind_nomina_ult1          11\n",
            "ind_nom_pens_ult1        11\n",
            "ind_recibo_ult1           0\n",
            "checked_services          0\n",
            "dtype: int64\n",
            "\n",
            "Number of missing values after imputation:\n",
            "fecha_dato                0\n",
            "ncodpers                  0\n",
            "ind_empleado             50\n",
            "pais_residencia          50\n",
            "sexo                     50\n",
            "age                       0\n",
            "fecha_alta               50\n",
            "ind_nuevo                 0\n",
            "antiguedad                0\n",
            "indrel                    0\n",
            "indrel_1mes               0\n",
            "tiprel_1mes              50\n",
            "indresi                  50\n",
            "indext                   50\n",
            "canal_entrada            50\n",
            "indfall                  50\n",
            "tipodom                   0\n",
            "cod_prov                  0\n",
            "nomprov                  51\n",
            "ind_actividad_cliente     0\n",
            "renta                     0\n",
            "segmento                 50\n",
            "ind_ahor_fin_ult1         0\n",
            "ind_aval_fin_ult1         0\n",
            "ind_cco_fin_ult1          0\n",
            "ind_cder_fin_ult1         0\n",
            "ind_cno_fin_ult1          0\n",
            "ind_ctju_fin_ult1         0\n",
            "ind_ctma_fin_ult1         0\n",
            "ind_ctop_fin_ult1         0\n",
            "ind_ctpp_fin_ult1         0\n",
            "ind_deco_fin_ult1         0\n",
            "ind_deme_fin_ult1         0\n",
            "ind_dela_fin_ult1         0\n",
            "ind_ecue_fin_ult1         0\n",
            "ind_fond_fin_ult1         0\n",
            "ind_hip_fin_ult1          0\n",
            "ind_plan_fin_ult1         0\n",
            "ind_pres_fin_ult1         0\n",
            "ind_reca_fin_ult1         0\n",
            "ind_tjcr_fin_ult1         0\n",
            "ind_valo_fin_ult1         0\n",
            "ind_viv_fin_ult1          0\n",
            "ind_nomina_ult1           0\n",
            "ind_nom_pens_ult1         0\n",
            "ind_recibo_ult1           0\n",
            "checked_services          0\n",
            "dtype: int64\n"
          ]
        }
      ],
      "source": [
        "import pandas as pd\n",
        "import numpy as np\n",
        "import xgboost as xgb\n",
        "\n",
        "# Assuming new_df is your DataFrame with missing values\n",
        "# Check for missing values before imputation\n",
        "print(\"Number of missing values before imputation:\")\n",
        "print(new_df.isnull().sum())\n",
        "\n",
        "# Define XGBoost model\n",
        "xgb_model = xgb.XGBRegressor()\n",
        "\n",
        "# Define features and target variable\n",
        "X = new_df[new_num_feat].values  # Convert to numpy array\n",
        "y = new_df['checked_services'].values  # Replace 'checked_services' with your target variable\n",
        "\n",
        "# Train the model\n",
        "xgb_model.fit(X, y)  # Make sure to include the target variable\n",
        "\n",
        "# Use the trained model to predict missing values\n",
        "imputed_values = xgb_model.predict(X)\n",
        "\n",
        "# Replace missing values in your dataframe\n",
        "new_df[new_num_feat] = np.where(new_df[new_num_feat].isnull(), imputed_values.reshape(-1, 1), new_df[new_num_feat])\n",
        "\n",
        "# Check for missing values after imputation\n",
        "print(\"\\nNumber of missing values after imputation:\")\n",
        "print(new_df.isnull().sum())"
      ]
    },
    {
      "cell_type": "code",
      "execution_count": null,
      "id": "7595fe99-1365-4e4e-88ff-0f7914b6b9bd",
      "metadata": {
        "id": "7595fe99-1365-4e4e-88ff-0f7914b6b9bd"
      },
      "outputs": [],
      "source": [
        "## XBG fixed some of the missing values, the columns that did not are okay because they are categorical.\n",
        "# And not as important aka the (pais_residencia = Customer's Country residence).\n",
        "# I will prioritize the important columns that have zero nan like the rent, age, etc"
      ]
    },
    {
      "cell_type": "code",
      "execution_count": null,
      "id": "cd81f511-1f04-42b1-a99d-b302a34ad570",
      "metadata": {
        "id": "cd81f511-1f04-42b1-a99d-b302a34ad570"
      },
      "outputs": [],
      "source": [
        "# To fill the missing values in age because I feel like this is good info for the objective,\n",
        "# using the Customer seniority (antiguedad).\n",
        "# Older customers can have higher seniority, just due to age.\n",
        "# Older ones can have a higher chance of financial stability,\n",
        "# than a young adult in college..."
      ]
    },
    {
      "cell_type": "code",
      "execution_count": null,
      "id": "58c5e49f-732b-4adf-a979-ad6b22a6887b",
      "metadata": {
        "id": "58c5e49f-732b-4adf-a979-ad6b22a6887b",
        "outputId": "437c746d-706f-4746-e554-0e912f523a22"
      },
      "outputs": [
        {
          "name": "stdout",
          "output_type": "stream",
          "text": [
            "No missing values in the 'age' column.\n"
          ]
        }
      ],
      "source": [
        "# Fill missing age values using customer seniority (antiguedad)\n",
        "# Calculate the mean age for each unique value of customer seniority\n",
        "age_mean_by_seniority = new_df.groupby('antiguedad')['age'].mean()\n",
        "\n",
        "# Check if there are any missing values in the age column\n",
        "if new_df['age'].isnull().sum() == 0:\n",
        "    print(\"No missing values in the 'age' column.\")\n",
        "else:\n",
        "    # Fill missing age values with the mean age corresponding to the customer's seniority\n",
        "    new_df['age'] = new_df.apply(lambda row: age_mean_by_seniority[row['antiguedad']] if np.isnan(row['age']) else row['age'], axis=1)\n"
      ]
    },
    {
      "cell_type": "code",
      "execution_count": null,
      "id": "3a6570ef-4d3f-45c9-8f3a-20091f36b88a",
      "metadata": {
        "id": "3a6570ef-4d3f-45c9-8f3a-20091f36b88a"
      },
      "outputs": [],
      "source": [
        "## Test Set Preprocessong"
      ]
    },
    {
      "cell_type": "code",
      "execution_count": null,
      "id": "a701f3d1-a01d-47bf-b8c8-66be9e013a42",
      "metadata": {
        "id": "a701f3d1-a01d-47bf-b8c8-66be9e013a42",
        "outputId": "4f88e655-438d-4f78-c849-e209fa8689ef"
      },
      "outputs": [
        {
          "name": "stdout",
          "output_type": "stream",
          "text": [
            "   fecha_dato  ncodpers ind_empleado pais_residencia sexo  age  fecha_alta  \\\n",
            "0  2015-01-28   1375586            N              ES    H   35  2015-01-12   \n",
            "1  2015-01-28   1050611            N              ES    V   23  2012-08-10   \n",
            "2  2015-01-28   1050612            N              ES    V   23  2012-08-10   \n",
            "3  2015-01-28   1050613            N              ES    H   22  2012-08-10   \n",
            "4  2015-01-28   1050614            N              ES    V   23  2012-08-10   \n",
            "\n",
            "   ind_nuevo antiguedad  indrel  ... ind_hip_fin_ult1  ind_plan_fin_ult1  \\\n",
            "0        0.0          6     1.0  ...                0                  0   \n",
            "1        0.0         35     1.0  ...                0                  0   \n",
            "2        0.0         35     1.0  ...                0                  0   \n",
            "3        0.0         35     1.0  ...                0                  0   \n",
            "4        0.0         35     1.0  ...                0                  0   \n",
            "\n",
            "  ind_pres_fin_ult1 ind_reca_fin_ult1 ind_tjcr_fin_ult1  ind_valo_fin_ult1  \\\n",
            "0                 0                 0                 0                  0   \n",
            "1                 0                 0                 0                  0   \n",
            "2                 0                 0                 0                  0   \n",
            "3                 0                 0                 0                  0   \n",
            "4                 0                 0                 0                  0   \n",
            "\n",
            "  ind_viv_fin_ult1 ind_nomina_ult1  ind_nom_pens_ult1  ind_recibo_ult1  \n",
            "0                0             0.0                0.0                0  \n",
            "1                0             0.0                0.0                0  \n",
            "2                0             0.0                0.0                0  \n",
            "3                0             0.0                0.0                0  \n",
            "4                0             0.0                0.0                0  \n",
            "\n",
            "[5 rows x 48 columns]\n"
          ]
        }
      ],
      "source": [
        "df_test = pd.read_csv('train_ver2(spr).csv.zip', nrows=10000)\n",
        "print(df_test.head())"
      ]
    },
    {
      "cell_type": "code",
      "execution_count": null,
      "id": "e8cbbf12-f8c0-4d7d-9afc-8245c386bfd5",
      "metadata": {
        "id": "e8cbbf12-f8c0-4d7d-9afc-8245c386bfd5",
        "outputId": "f742cc97-3d4a-48c7-809d-bc0fd63a6d85"
      },
      "outputs": [
        {
          "name": "stdout",
          "output_type": "stream",
          "text": [
            "                   Column  Missing Percentage\n",
            "15               conyuemp              100.00\n",
            "10         ult_fec_cli_1t               99.88\n",
            "22                  renta               18.99\n",
            "19               cod_prov                0.54\n",
            "20                nomprov                0.54\n",
            "7               ind_nuevo                0.50\n",
            "3         pais_residencia                0.50\n",
            "2            ind_empleado                0.50\n",
            "13                indresi                0.50\n",
            "12            tiprel_1mes                0.50\n",
            "14                 indext                0.50\n",
            "9                  indrel                0.50\n",
            "16          canal_entrada                0.50\n",
            "11            indrel_1mes                0.50\n",
            "6              fecha_alta                0.50\n",
            "4                    sexo                0.50\n",
            "18                tipodom                0.50\n",
            "17                indfall                0.50\n",
            "21  ind_actividad_cliente                0.50\n",
            "23               segmento                0.50\n",
            "46      ind_nom_pens_ult1                0.11\n",
            "45        ind_nomina_ult1                0.11\n",
            "0              fecha_dato                0.00\n",
            "5                     age                0.00\n",
            "8              antiguedad                0.00\n",
            "1                ncodpers                0.00\n",
            "24      ind_ahor_fin_ult1                0.00\n",
            "25      ind_aval_fin_ult1                0.00\n",
            "28       ind_cno_fin_ult1                0.00\n",
            "29      ind_ctju_fin_ult1                0.00\n",
            "26       ind_cco_fin_ult1                0.00\n",
            "27      ind_cder_fin_ult1                0.00\n",
            "31      ind_ctop_fin_ult1                0.00\n",
            "30      ind_ctma_fin_ult1                0.00\n",
            "32      ind_ctpp_fin_ult1                0.00\n",
            "33      ind_deco_fin_ult1                0.00\n",
            "36      ind_ecue_fin_ult1                0.00\n",
            "37      ind_fond_fin_ult1                0.00\n",
            "34      ind_deme_fin_ult1                0.00\n",
            "35      ind_dela_fin_ult1                0.00\n",
            "39      ind_plan_fin_ult1                0.00\n",
            "38       ind_hip_fin_ult1                0.00\n",
            "40      ind_pres_fin_ult1                0.00\n",
            "41      ind_reca_fin_ult1                0.00\n",
            "43      ind_valo_fin_ult1                0.00\n",
            "42      ind_tjcr_fin_ult1                0.00\n",
            "44       ind_viv_fin_ult1                0.00\n",
            "47        ind_recibo_ult1                0.00\n"
          ]
        }
      ],
      "source": [
        "missing_p = (df_test.isnull().sum() / len(df_test)) * 100\n",
        "\n",
        "missing_dft = pd.DataFrame({'Column': missing_p.index, 'Missing Percentage': missing_p.values})\n",
        "\n",
        "missing_dft = missing_df.sort_values(by='Missing Percentage', ascending=False)\n",
        "\n",
        "print(missing_dft)"
      ]
    },
    {
      "cell_type": "code",
      "execution_count": null,
      "id": "2386e1f3-c6ee-41ac-8c3a-dbf89a1eef49",
      "metadata": {
        "id": "2386e1f3-c6ee-41ac-8c3a-dbf89a1eef49",
        "outputId": "64afc7e9-843f-4c86-d802-8c0ce846e80c"
      },
      "outputs": [
        {
          "name": "stdout",
          "output_type": "stream",
          "text": [
            "   fecha_dato  ncodpers ind_empleado pais_residencia sexo  age  fecha_alta  \\\n",
            "0  2015-01-28   1375586            N              ES    H   35  2015-01-12   \n",
            "1  2015-01-28   1050611            N              ES    V   23  2012-08-10   \n",
            "2  2015-01-28   1050612            N              ES    V   23  2012-08-10   \n",
            "3  2015-01-28   1050613            N              ES    H   22  2012-08-10   \n",
            "4  2015-01-28   1050614            N              ES    V   23  2012-08-10   \n",
            "\n",
            "   ind_nuevo antiguedad  indrel  ...  ind_hip_fin_ult1 ind_plan_fin_ult1  \\\n",
            "0        0.0          6     1.0  ...                 0                 0   \n",
            "1        0.0         35     1.0  ...                 0                 0   \n",
            "2        0.0         35     1.0  ...                 0                 0   \n",
            "3        0.0         35     1.0  ...                 0                 0   \n",
            "4        0.0         35     1.0  ...                 0                 0   \n",
            "\n",
            "  ind_pres_fin_ult1 ind_reca_fin_ult1 ind_tjcr_fin_ult1 ind_valo_fin_ult1  \\\n",
            "0                 0                 0                 0                 0   \n",
            "1                 0                 0                 0                 0   \n",
            "2                 0                 0                 0                 0   \n",
            "3                 0                 0                 0                 0   \n",
            "4                 0                 0                 0                 0   \n",
            "\n",
            "   ind_viv_fin_ult1  ind_nomina_ult1 ind_nom_pens_ult1  ind_recibo_ult1  \n",
            "0                 0              0.0               0.0                0  \n",
            "1                 0              0.0               0.0                0  \n",
            "2                 0              0.0               0.0                0  \n",
            "3                 0              0.0               0.0                0  \n",
            "4                 0              0.0               0.0                0  \n",
            "\n",
            "[5 rows x 46 columns]\n"
          ]
        }
      ],
      "source": [
        "columns_to_drop = ['conyuemp', 'ult_fec_cli_1t']\n",
        "df_test1 = df_test.drop(columns=columns_to_drop)\n",
        "\n",
        "print(df_test1.head())"
      ]
    },
    {
      "cell_type": "code",
      "execution_count": null,
      "id": "5f18f19e-cc81-4ac4-82ab-d0c3a2bd1396",
      "metadata": {
        "id": "5f18f19e-cc81-4ac4-82ab-d0c3a2bd1396",
        "outputId": "74b5e784-ae29-4326-95cd-cf876a31e30e"
      },
      "outputs": [
        {
          "name": "stdout",
          "output_type": "stream",
          "text": [
            "Number of features: 46\n",
            "\n",
            "Numerical Features:\n",
            "['ncodpers', 'ind_nuevo', 'indrel', 'indrel_1mes', 'tipodom', 'cod_prov', 'ind_actividad_cliente', 'renta', 'ind_ahor_fin_ult1', 'ind_aval_fin_ult1', 'ind_cco_fin_ult1', 'ind_cder_fin_ult1', 'ind_cno_fin_ult1', 'ind_ctju_fin_ult1', 'ind_ctma_fin_ult1', 'ind_ctop_fin_ult1', 'ind_ctpp_fin_ult1', 'ind_deco_fin_ult1', 'ind_deme_fin_ult1', 'ind_dela_fin_ult1', 'ind_ecue_fin_ult1', 'ind_fond_fin_ult1', 'ind_hip_fin_ult1', 'ind_plan_fin_ult1', 'ind_pres_fin_ult1', 'ind_reca_fin_ult1', 'ind_tjcr_fin_ult1', 'ind_valo_fin_ult1', 'ind_viv_fin_ult1', 'ind_nomina_ult1', 'ind_nom_pens_ult1', 'ind_recibo_ult1']\n",
            "\n",
            "Categorical Features:\n",
            "['fecha_dato', 'ind_empleado', 'pais_residencia', 'sexo', 'age', 'fecha_alta', 'antiguedad', 'tiprel_1mes', 'indresi', 'indext', 'canal_entrada', 'indfall', 'nomprov', 'segmento']\n"
          ]
        }
      ],
      "source": [
        "nf = len(df_test1.columns)\n",
        "\n",
        "n_features = []\n",
        "c_features = []\n",
        "\n",
        "for column in df_test1.columns:\n",
        "    if df_test1[column].dtype == 'object':\n",
        "        c_features.append(column)\n",
        "    else:\n",
        "        n_features.append(column)\n",
        "\n",
        "print(f\"Number of features: {nf}\")\n",
        "print(\"\\nNumerical Features:\")\n",
        "print(n_features)\n",
        "print(\"\\nCategorical Features:\")\n",
        "print(c_features)"
      ]
    },
    {
      "cell_type": "code",
      "execution_count": null,
      "id": "17bd931c-c831-48fa-acf1-f6a029cc78c8",
      "metadata": {
        "id": "17bd931c-c831-48fa-acf1-f6a029cc78c8",
        "outputId": "f7634e96-f842-4219-eb3d-c88be175cc0c"
      },
      "outputs": [
        {
          "name": "stdout",
          "output_type": "stream",
          "text": [
            "Number of features: 46\n",
            "\n",
            "Numerical Features:\n",
            "['ncodpers', 'ind_nuevo', 'indrel', 'indrel_1mes', 'tipodom', 'cod_prov', 'ind_actividad_cliente', 'renta', 'ind_ahor_fin_ult1', 'ind_aval_fin_ult1', 'ind_cco_fin_ult1', 'ind_cder_fin_ult1', 'ind_cno_fin_ult1', 'ind_ctju_fin_ult1', 'ind_ctma_fin_ult1', 'ind_ctop_fin_ult1', 'ind_ctpp_fin_ult1', 'ind_deco_fin_ult1', 'ind_deme_fin_ult1', 'ind_dela_fin_ult1', 'ind_ecue_fin_ult1', 'ind_fond_fin_ult1', 'ind_hip_fin_ult1', 'ind_plan_fin_ult1', 'ind_pres_fin_ult1', 'ind_reca_fin_ult1', 'ind_tjcr_fin_ult1', 'ind_valo_fin_ult1', 'ind_viv_fin_ult1', 'ind_nomina_ult1', 'ind_nom_pens_ult1', 'ind_recibo_ult1']\n",
            "\n",
            "Categorical Features:\n",
            "['fecha_dato', 'ind_empleado', 'pais_residencia', 'sexo', 'age', 'fecha_alta', 'antiguedad', 'tiprel_1mes', 'indresi', 'indext', 'canal_entrada', 'indfall', 'nomprov', 'segmento']\n"
          ]
        }
      ],
      "source": [
        "## Rent has numbers, so switching it to numerical\n",
        "\n",
        "if 'renta' in c_features:\n",
        "    c_features.remove('renta')\n",
        "    n_features.append('renta')\n",
        "\n",
        "print(f\"Number of features: {nf}\")\n",
        "print(\"\\nNumerical Features:\")\n",
        "print(n_features)\n",
        "print(\"\\nCategorical Features:\")\n",
        "print(c_features)"
      ]
    },
    {
      "cell_type": "code",
      "execution_count": null,
      "id": "f7abaaad-52f1-4690-97ba-00cc3d75ae1d",
      "metadata": {
        "id": "f7abaaad-52f1-4690-97ba-00cc3d75ae1d",
        "outputId": "d84f53d3-6c5d-42e4-edc7-8ed3cbcc6ef5"
      },
      "outputs": [
        {
          "name": "stdout",
          "output_type": "stream",
          "text": [
            "   ncodpers  ind_nuevo  indrel  indrel_1mes  tipodom  cod_prov  \\\n",
            "0   1375586        0.0     1.0          1.0      1.0      29.0   \n",
            "1   1050611        0.0     1.0          1.0      1.0      13.0   \n",
            "2   1050612        0.0     1.0          1.0      1.0      13.0   \n",
            "3   1050613        0.0     1.0          1.0      1.0      50.0   \n",
            "4   1050614        0.0     1.0          1.0      1.0      50.0   \n",
            "\n",
            "   ind_actividad_cliente      renta  ind_ahor_fin_ult1  ind_aval_fin_ult1  \\\n",
            "0                    1.0   87218.10                  0                  0   \n",
            "1                    0.0   35548.74                  0                  0   \n",
            "2                    0.0  122179.11                  0                  0   \n",
            "3                    0.0  119775.54                  0                  0   \n",
            "4                    1.0        NaN                  0                  0   \n",
            "\n",
            "   ...  ind_hip_fin_ult1  ind_plan_fin_ult1  ind_pres_fin_ult1  \\\n",
            "0  ...                 0                  0                  0   \n",
            "1  ...                 0                  0                  0   \n",
            "2  ...                 0                  0                  0   \n",
            "3  ...                 0                  0                  0   \n",
            "4  ...                 0                  0                  0   \n",
            "\n",
            "   ind_reca_fin_ult1  ind_tjcr_fin_ult1  ind_valo_fin_ult1  ind_viv_fin_ult1  \\\n",
            "0                  0                  0                  0                 0   \n",
            "1                  0                  0                  0                 0   \n",
            "2                  0                  0                  0                 0   \n",
            "3                  0                  0                  0                 0   \n",
            "4                  0                  0                  0                 0   \n",
            "\n",
            "   ind_nomina_ult1  ind_nom_pens_ult1  ind_recibo_ult1  \n",
            "0              0.0                0.0                0  \n",
            "1              0.0                0.0                0  \n",
            "2              0.0                0.0                0  \n",
            "3              0.0                0.0                0  \n",
            "4              0.0                0.0                0  \n",
            "\n",
            "[5 rows x 32 columns]\n"
          ]
        }
      ],
      "source": [
        "numerical_df_test1 = df_test1[n_features]\n",
        "print(numerical_df_test1.head())"
      ]
    },
    {
      "cell_type": "code",
      "execution_count": null,
      "id": "3b49f056-64dc-40fc-ad38-f305f12eefbe",
      "metadata": {
        "id": "3b49f056-64dc-40fc-ad38-f305f12eefbe",
        "outputId": "836d2fd4-c8da-4763-83af-0be4d0eb220b"
      },
      "outputs": [
        {
          "name": "stdout",
          "output_type": "stream",
          "text": [
            "0        6.0\n",
            "1       35.0\n",
            "2       35.0\n",
            "3       35.0\n",
            "4       35.0\n",
            "        ... \n",
            "9995    34.0\n",
            "9996    34.0\n",
            "9997    34.0\n",
            "9998    34.0\n",
            "9999    34.0\n",
            "Name: antiguedad, Length: 10000, dtype: float64\n"
          ]
        }
      ],
      "source": [
        "df_test1['antiguedad'] = pd.to_numeric(df_test1['antiguedad'], errors='coerce')\n",
        "\n",
        "df_test1['antiguedad'] = df_test1['antiguedad'].apply(lambda x: max(0, x))\n",
        "\n",
        "print(df_test1['antiguedad'])"
      ]
    },
    {
      "cell_type": "code",
      "execution_count": null,
      "id": "2d4a0ff2-341b-4a3e-a743-b94052832cf8",
      "metadata": {
        "id": "2d4a0ff2-341b-4a3e-a743-b94052832cf8",
        "outputId": "129cf72a-3ab2-438d-8946-f3b5d0e0a5cd"
      },
      "outputs": [
        {
          "name": "stdout",
          "output_type": "stream",
          "text": [
            "Minimum value of 'antiguedad': 0.0\n",
            "Maximum value of 'antiguedad': 35.0\n"
          ]
        }
      ],
      "source": [
        "print(\"Minimum value of 'antiguedad':\", df_test1['antiguedad'].min())\n",
        "print(\"Maximum value of 'antiguedad':\", df_test1['antiguedad'].max())"
      ]
    },
    {
      "cell_type": "code",
      "execution_count": null,
      "id": "f9436172-da4c-468f-9628-86e11953e5fd",
      "metadata": {
        "id": "f9436172-da4c-468f-9628-86e11953e5fd",
        "outputId": "a7c08e28-ae31-451d-ae02-76f65f13dfe1"
      },
      "outputs": [
        {
          "name": "stdout",
          "output_type": "stream",
          "text": [
            "   fecha_dato ind_empleado pais_residencia sexo  age  fecha_alta  antiguedad  \\\n",
            "0  2015-01-28            N              ES    H   35  2015-01-12         6.0   \n",
            "1  2015-01-28            N              ES    V   23  2012-08-10        35.0   \n",
            "2  2015-01-28            N              ES    V   23  2012-08-10        35.0   \n",
            "3  2015-01-28            N              ES    H   22  2012-08-10        35.0   \n",
            "4  2015-01-28            N              ES    V   23  2012-08-10        35.0   \n",
            "\n",
            "  tiprel_1mes indresi indext canal_entrada indfall      nomprov  \\\n",
            "0           A       S      N           KHL       N       MALAGA   \n",
            "1           I       S      S           KHE       N  CIUDAD REAL   \n",
            "2           I       S      N           KHE       N  CIUDAD REAL   \n",
            "3           I       S      N           KHD       N     ZARAGOZA   \n",
            "4           A       S      N           KHE       N     ZARAGOZA   \n",
            "\n",
            "             segmento  \n",
            "0   02 - PARTICULARES  \n",
            "1  03 - UNIVERSITARIO  \n",
            "2  03 - UNIVERSITARIO  \n",
            "3  03 - UNIVERSITARIO  \n",
            "4  03 - UNIVERSITARIO  \n"
          ]
        }
      ],
      "source": [
        "categorical_df_test1= df_test1[c_features]\n",
        "print(categorical_df_test1.head())"
      ]
    },
    {
      "cell_type": "code",
      "execution_count": null,
      "id": "5d0f5ec4-9552-4304-9443-6b02692960fe",
      "metadata": {
        "id": "5d0f5ec4-9552-4304-9443-6b02692960fe",
        "outputId": "e7341f97-b926-4b27-c03c-18627ee445f6"
      },
      "outputs": [
        {
          "name": "stdout",
          "output_type": "stream",
          "text": [
            "\n",
            "Categorical Features:\n",
            "['fecha_dato', 'ind_empleado', 'pais_residencia', 'sexo', 'age', 'fecha_alta', 'antiguedad', 'tiprel_1mes', 'indresi', 'indext', 'canal_entrada', 'indfall', 'nomprov', 'segmento']\n"
          ]
        }
      ],
      "source": [
        "print(\"\\nCategorical Features:\")\n",
        "print(c_features)"
      ]
    },
    {
      "cell_type": "code",
      "execution_count": null,
      "id": "6f19aa9f-fc66-4fb0-afe3-092f10d85284",
      "metadata": {
        "id": "6f19aa9f-fc66-4fb0-afe3-092f10d85284",
        "outputId": "fc6875d5-f818-415c-99de-4f4ad510051e"
      },
      "outputs": [
        {
          "name": "stdout",
          "output_type": "stream",
          "text": [
            "Missing Values Count (Sorted):\n",
            "renta                    1899\n",
            "cod_prov                   54\n",
            "nomprov                    54\n",
            "sexo                       50\n",
            "pais_residencia            50\n",
            "ind_empleado               50\n",
            "indresi                    50\n",
            "tiprel_1mes                50\n",
            "indext                     50\n",
            "indrel_1mes                50\n",
            "canal_entrada              50\n",
            "indrel                     50\n",
            "ind_nuevo                  50\n",
            "fecha_alta                 50\n",
            "tipodom                    50\n",
            "indfall                    50\n",
            "ind_actividad_cliente      50\n",
            "segmento                   50\n",
            "ind_nom_pens_ult1          11\n",
            "ind_nomina_ult1            11\n",
            "ncodpers                    0\n",
            "age                         0\n",
            "antiguedad                  0\n",
            "fecha_dato                  0\n",
            "ind_ahor_fin_ult1           0\n",
            "ind_aval_fin_ult1           0\n",
            "ind_cno_fin_ult1            0\n",
            "ind_ctju_fin_ult1           0\n",
            "ind_cco_fin_ult1            0\n",
            "ind_cder_fin_ult1           0\n",
            "ind_ctop_fin_ult1           0\n",
            "ind_ctma_fin_ult1           0\n",
            "ind_ctpp_fin_ult1           0\n",
            "ind_deco_fin_ult1           0\n",
            "ind_ecue_fin_ult1           0\n",
            "ind_fond_fin_ult1           0\n",
            "ind_deme_fin_ult1           0\n",
            "ind_dela_fin_ult1           0\n",
            "ind_plan_fin_ult1           0\n",
            "ind_hip_fin_ult1            0\n",
            "ind_pres_fin_ult1           0\n",
            "ind_reca_fin_ult1           0\n",
            "ind_valo_fin_ult1           0\n",
            "ind_tjcr_fin_ult1           0\n",
            "ind_viv_fin_ult1            0\n",
            "ind_recibo_ult1             0\n",
            "dtype: int64\n",
            "\n",
            "Potential Outliers:\n",
            "                         count          mean            std         min  \\\n",
            "ncodpers               10000.0  1.049352e+06    5917.693059  1042162.00   \n",
            "ind_nuevo               9950.0  4.020101e-04       0.020047        0.00   \n",
            "antiguedad             10000.0  3.457590e+01       2.902323        0.00   \n",
            "indrel                  9950.0  1.118191e+00       3.401457        1.00   \n",
            "indrel_1mes             9950.0  1.000000e+00       0.000000        1.00   \n",
            "tipodom                 9950.0  1.000000e+00       0.000000        1.00   \n",
            "cod_prov                9946.0  2.448562e+01      14.730467        1.00   \n",
            "ind_actividad_cliente   9950.0  4.200000e-01       0.493583        0.00   \n",
            "renta                   8101.0  1.098319e+05  107476.642433     8034.15   \n",
            "ind_ahor_fin_ult1      10000.0  0.000000e+00       0.000000        0.00   \n",
            "ind_aval_fin_ult1      10000.0  0.000000e+00       0.000000        0.00   \n",
            "ind_cco_fin_ult1       10000.0  9.296000e-01       0.255833        0.00   \n",
            "ind_cder_fin_ult1      10000.0  0.000000e+00       0.000000        0.00   \n",
            "ind_cno_fin_ult1       10000.0  3.690000e-02       0.188526        0.00   \n",
            "ind_ctju_fin_ult1      10000.0  6.700000e-03       0.081583        0.00   \n",
            "ind_ctma_fin_ult1      10000.0  1.200000e-03       0.034622        0.00   \n",
            "ind_ctop_fin_ult1      10000.0  0.000000e+00       0.000000        0.00   \n",
            "ind_ctpp_fin_ult1      10000.0  0.000000e+00       0.000000        0.00   \n",
            "ind_deco_fin_ult1      10000.0  3.000000e-04       0.017319        0.00   \n",
            "ind_deme_fin_ult1      10000.0  2.000000e-04       0.014141        0.00   \n",
            "ind_dela_fin_ult1      10000.0  8.500000e-03       0.091807        0.00   \n",
            "ind_ecue_fin_ult1      10000.0  6.330000e-02       0.243514        0.00   \n",
            "ind_fond_fin_ult1      10000.0  2.200000e-03       0.046855        0.00   \n",
            "ind_hip_fin_ult1       10000.0  2.000000e-04       0.014141        0.00   \n",
            "ind_plan_fin_ult1      10000.0  6.000000e-04       0.024489        0.00   \n",
            "ind_pres_fin_ult1      10000.0  2.000000e-04       0.014141        0.00   \n",
            "ind_reca_fin_ult1      10000.0  1.060000e-02       0.102414        0.00   \n",
            "ind_tjcr_fin_ult1      10000.0  1.090000e-02       0.103838        0.00   \n",
            "ind_valo_fin_ult1      10000.0  3.200000e-03       0.056481        0.00   \n",
            "ind_viv_fin_ult1       10000.0  0.000000e+00       0.000000        0.00   \n",
            "ind_nomina_ult1         9989.0  2.182401e-02       0.146116        0.00   \n",
            "ind_nom_pens_ult1       9989.0  2.402643e-02       0.153139        0.00   \n",
            "ind_recibo_ult1        10000.0  7.960000e-02       0.270686        0.00   \n",
            "\n",
            "                              25%         50%         75%         max  \n",
            "ncodpers               1045407.75  1048608.50  1052755.25  1375586.00  \n",
            "ind_nuevo                    0.00        0.00        0.00        1.00  \n",
            "antiguedad                  35.00       35.00       35.00       35.00  \n",
            "indrel                       1.00        1.00        1.00       99.00  \n",
            "indrel_1mes                  1.00        1.00        1.00        1.00  \n",
            "tipodom                      1.00        1.00        1.00        1.00  \n",
            "cod_prov                    10.00       26.00       37.00       52.00  \n",
            "ind_actividad_cliente        0.00        0.00        1.00        1.00  \n",
            "renta                    61310.88    87839.34   129294.30  5649552.45  \n",
            "ind_ahor_fin_ult1            0.00        0.00        0.00        0.00  \n",
            "ind_aval_fin_ult1            0.00        0.00        0.00        0.00  \n",
            "ind_cco_fin_ult1             1.00        1.00        1.00        1.00  \n",
            "ind_cder_fin_ult1            0.00        0.00        0.00        0.00  \n",
            "ind_cno_fin_ult1             0.00        0.00        0.00        1.00  \n",
            "ind_ctju_fin_ult1            0.00        0.00        0.00        1.00  \n",
            "ind_ctma_fin_ult1            0.00        0.00        0.00        1.00  \n",
            "ind_ctop_fin_ult1            0.00        0.00        0.00        0.00  \n",
            "ind_ctpp_fin_ult1            0.00        0.00        0.00        0.00  \n",
            "ind_deco_fin_ult1            0.00        0.00        0.00        1.00  \n",
            "ind_deme_fin_ult1            0.00        0.00        0.00        1.00  \n",
            "ind_dela_fin_ult1            0.00        0.00        0.00        1.00  \n",
            "ind_ecue_fin_ult1            0.00        0.00        0.00        1.00  \n",
            "ind_fond_fin_ult1            0.00        0.00        0.00        1.00  \n",
            "ind_hip_fin_ult1             0.00        0.00        0.00        1.00  \n",
            "ind_plan_fin_ult1            0.00        0.00        0.00        1.00  \n",
            "ind_pres_fin_ult1            0.00        0.00        0.00        1.00  \n",
            "ind_reca_fin_ult1            0.00        0.00        0.00        1.00  \n",
            "ind_tjcr_fin_ult1            0.00        0.00        0.00        1.00  \n",
            "ind_valo_fin_ult1            0.00        0.00        0.00        1.00  \n",
            "ind_viv_fin_ult1             0.00        0.00        0.00        0.00  \n",
            "ind_nomina_ult1              0.00        0.00        0.00        1.00  \n",
            "ind_nom_pens_ult1            0.00        0.00        0.00        1.00  \n",
            "ind_recibo_ult1              0.00        0.00        0.00        1.00  \n"
          ]
        }
      ],
      "source": [
        "missing_count = df_test1.isnull().sum()\n",
        "missing_count_sorted = missing_count.sort_values(ascending=False)\n",
        "\n",
        "outliers_df_test1 = df_test1.describe().transpose()\n",
        "\n",
        "print(\"Missing Values Count (Sorted):\")\n",
        "print(missing_count_sorted)\n",
        "\n",
        "print(\"\\nPotential Outliers:\")\n",
        "print(outliers_df_test1)\n"
      ]
    },
    {
      "cell_type": "code",
      "execution_count": null,
      "id": "e96ccd71-8b93-449d-8292-a65b11a59093",
      "metadata": {
        "id": "e96ccd71-8b93-449d-8292-a65b11a59093",
        "outputId": "a864d2ef-110c-4c50-d49b-943dd6bdc39e"
      },
      "outputs": [
        {
          "name": "stdout",
          "output_type": "stream",
          "text": [
            "User-Item Interaction Matrix (Test):\n",
            "  ind_empleado  ind_nuevo  ind_actividad_cliente  ind_ahor_fin_ult1  \\\n",
            "0            0        0.0                    1.0                  0   \n",
            "1            0        0.0                    0.0                  0   \n",
            "2            0        0.0                    0.0                  0   \n",
            "3            0        0.0                    0.0                  0   \n",
            "4            0        0.0                    1.0                  0   \n",
            "\n",
            "   ind_aval_fin_ult1  ind_cco_fin_ult1  ind_cder_fin_ult1  ind_cno_fin_ult1  \\\n",
            "0                  0                 1                  0                 0   \n",
            "1                  0                 1                  0                 0   \n",
            "2                  0                 1                  0                 0   \n",
            "3                  0                 0                  0                 0   \n",
            "4                  0                 1                  0                 0   \n",
            "\n",
            "   ind_ctju_fin_ult1  ind_ctma_fin_ult1  ...  ind_plan_fin_ult1  \\\n",
            "0                  0                  0  ...                  0   \n",
            "1                  0                  0  ...                  0   \n",
            "2                  0                  0  ...                  0   \n",
            "3                  0                  0  ...                  0   \n",
            "4                  0                  0  ...                  0   \n",
            "\n",
            "   ind_pres_fin_ult1  ind_reca_fin_ult1  ind_tjcr_fin_ult1  ind_valo_fin_ult1  \\\n",
            "0                  0                  0                  0                  0   \n",
            "1                  0                  0                  0                  0   \n",
            "2                  0                  0                  0                  0   \n",
            "3                  0                  0                  0                  0   \n",
            "4                  0                  0                  0                  0   \n",
            "\n",
            "   ind_viv_fin_ult1  ind_nomina_ult1  ind_nom_pens_ult1  ind_recibo_ult1  \\\n",
            "0                 0              0.0                0.0                0   \n",
            "1                 0              0.0                0.0                0   \n",
            "2                 0              0.0                0.0                0   \n",
            "3                 0              0.0                0.0                0   \n",
            "4                 0              0.0                0.0                0   \n",
            "\n",
            "   checked_services  \n",
            "0               2.0  \n",
            "1               1.0  \n",
            "2               1.0  \n",
            "3               1.0  \n",
            "4               2.0  \n",
            "\n",
            "[5 rows x 28 columns]\n"
          ]
        },
        {
          "name": "stderr",
          "output_type": "stream",
          "text": [
            "/tmp/ipykernel_1085/3961882493.py:14: SettingWithCopyWarning: \n",
            "A value is trying to be set on a copy of a slice from a DataFrame.\n",
            "Try using .loc[row_indexer,col_indexer] = value instead\n",
            "\n",
            "See the caveats in the documentation: https://pandas.pydata.org/pandas-docs/stable/user_guide/indexing.html#returning-a-view-versus-a-copy\n",
            "  target_df_test1['checked_services'] = target_df_test1.sum(axis=1)\n"
          ]
        }
      ],
      "source": [
        "from sklearn.preprocessing import LabelEncoder\n",
        "\n",
        "label_encoder = LabelEncoder()\n",
        "\n",
        "# Concatenate the one-hot encoded target columns\n",
        "target_cols = df_test1.columns[df_test1.columns.str.startswith('ind_')].tolist()\n",
        "target_df_test1 = df_test1[target_cols]\n",
        "\n",
        "# Convert one-hot encoded vectors to label encodings\n",
        "for column in target_df_test1.columns:\n",
        "    target_df_test1.loc[:, column] = label_encoder.fit_transform(target_df_test1[column])\n",
        "\n",
        "# Sum the encoded values across columns to represent the new column\n",
        "target_df_test1['checked_services'] = target_df_test1.sum(axis=1)\n",
        "\n",
        "# Create user-item interaction matrix without 'ncodpers' column\n",
        "user_product_matrix = target_df_test1.copy()\n",
        "\n",
        "# Display the user-item interaction matrix\n",
        "print(\"User-Item Interaction Matrix (Test):\")\n",
        "print(user_product_matrix.head())"
      ]
    },
    {
      "cell_type": "code",
      "execution_count": null,
      "id": "cea76e4d-5a07-49cb-86d1-26f00f6e10b7",
      "metadata": {
        "id": "cea76e4d-5a07-49cb-86d1-26f00f6e10b7",
        "outputId": "7135e9ef-58a4-4552-b3c6-a19c07f80c28"
      },
      "outputs": [
        {
          "name": "stdout",
          "output_type": "stream",
          "text": [
            "User-Item Interaction Matrix (Test):\n",
            "+---+--------------+-----------+-----------------------+-------------------+-------------------+------------------+-------------------+------------------+-------------------+-------------------+-------------------+-------------------+-------------------+-------------------+-------------------+-------------------+-------------------+------------------+-------------------+-------------------+-------------------+-------------------+-------------------+------------------+-----------------+-------------------+-----------------+------------------+\n",
            "|   | ind_empleado | ind_nuevo | ind_actividad_cliente | ind_ahor_fin_ult1 | ind_aval_fin_ult1 | ind_cco_fin_ult1 | ind_cder_fin_ult1 | ind_cno_fin_ult1 | ind_ctju_fin_ult1 | ind_ctma_fin_ult1 | ind_ctop_fin_ult1 | ind_ctpp_fin_ult1 | ind_deco_fin_ult1 | ind_deme_fin_ult1 | ind_dela_fin_ult1 | ind_ecue_fin_ult1 | ind_fond_fin_ult1 | ind_hip_fin_ult1 | ind_plan_fin_ult1 | ind_pres_fin_ult1 | ind_reca_fin_ult1 | ind_tjcr_fin_ult1 | ind_valo_fin_ult1 | ind_viv_fin_ult1 | ind_nomina_ult1 | ind_nom_pens_ult1 | ind_recibo_ult1 | checked_services |\n",
            "+---+--------------+-----------+-----------------------+-------------------+-------------------+------------------+-------------------+------------------+-------------------+-------------------+-------------------+-------------------+-------------------+-------------------+-------------------+-------------------+-------------------+------------------+-------------------+-------------------+-------------------+-------------------+-------------------+------------------+-----------------+-------------------+-----------------+------------------+\n",
            "| 0 |      0       |    0.0    |          1.0          |         0         |         0         |        1         |         0         |        0         |         0         |         0         |         0         |         0         |         0         |         0         |         0         |         0         |         0         |        0         |         0         |         0         |         0         |         0         |         0         |        0         |       0.0       |        0.0        |        0        |       2.0        |\n",
            "| 1 |      0       |    0.0    |          0.0          |         0         |         0         |        1         |         0         |        0         |         0         |         0         |         0         |         0         |         0         |         0         |         0         |         0         |         0         |        0         |         0         |         0         |         0         |         0         |         0         |        0         |       0.0       |        0.0        |        0        |       1.0        |\n",
            "| 2 |      0       |    0.0    |          0.0          |         0         |         0         |        1         |         0         |        0         |         0         |         0         |         0         |         0         |         0         |         0         |         0         |         0         |         0         |        0         |         0         |         0         |         0         |         0         |         0         |        0         |       0.0       |        0.0        |        0        |       1.0        |\n",
            "| 3 |      0       |    0.0    |          0.0          |         0         |         0         |        0         |         0         |        0         |         0         |         0         |         0         |         0         |         1         |         0         |         0         |         0         |         0         |        0         |         0         |         0         |         0         |         0         |         0         |        0         |       0.0       |        0.0        |        0        |       1.0        |\n",
            "| 4 |      0       |    0.0    |          1.0          |         0         |         0         |        1         |         0         |        0         |         0         |         0         |         0         |         0         |         0         |         0         |         0         |         0         |         0         |        0         |         0         |         0         |         0         |         0         |         0         |        0         |       0.0       |        0.0        |        0        |       2.0        |\n",
            "+---+--------------+-----------+-----------------------+-------------------+-------------------+------------------+-------------------+------------------+-------------------+-------------------+-------------------+-------------------+-------------------+-------------------+-------------------+-------------------+-------------------+------------------+-------------------+-------------------+-------------------+-------------------+-------------------+------------------+-----------------+-------------------+-----------------+------------------+\n"
          ]
        }
      ],
      "source": [
        "## visualize it\n",
        "\n",
        "from tabulate import tabulate\n",
        "\n",
        "print(\"User-Item Interaction Matrix (Test):\")\n",
        "print(tabulate(user_product_matrix.head(), headers='keys', tablefmt='pretty'))"
      ]
    },
    {
      "cell_type": "code",
      "execution_count": null,
      "id": "ad0157af-627e-49cc-86f8-5b834400914f",
      "metadata": {
        "id": "ad0157af-627e-49cc-86f8-5b834400914f"
      },
      "outputs": [],
      "source": [
        "# ind_empleado = Employee index: A active, B ex employed, F filial, N not employee, P pasive\n",
        "\n",
        "# ind_nuevo = New customer Index. 1 if the customer registered in the last 6 months.\n",
        "\n",
        "# ind_actividad_cliente = Activity index (1, active customer; 0, inactive customer)"
      ]
    },
    {
      "cell_type": "code",
      "execution_count": null,
      "id": "ed50ea48-63f0-4285-8eea-76cdd3a8ead0",
      "metadata": {
        "id": "ed50ea48-63f0-4285-8eea-76cdd3a8ead0",
        "outputId": "d12da8e5-1265-4e6c-d0ca-0546bf687308"
      },
      "outputs": [
        {
          "name": "stdout",
          "output_type": "stream",
          "text": [
            "   fecha_dato  ncodpers ind_empleado pais_residencia sexo  age  fecha_alta  \\\n",
            "0  2015-01-28   1375586            N              ES    H   35  2015-01-12   \n",
            "1  2015-01-28   1050611            N              ES    V   23  2012-08-10   \n",
            "2  2015-01-28   1050612            N              ES    V   23  2012-08-10   \n",
            "3  2015-01-28   1050613            N              ES    H   22  2012-08-10   \n",
            "4  2015-01-28   1050614            N              ES    V   23  2012-08-10   \n",
            "\n",
            "   ind_nuevo  antiguedad  indrel  ...  ind_plan_fin_ult1 ind_pres_fin_ult1  \\\n",
            "0        0.0         6.0     1.0  ...                  0                 0   \n",
            "1        0.0        35.0     1.0  ...                  0                 0   \n",
            "2        0.0        35.0     1.0  ...                  0                 0   \n",
            "3        0.0        35.0     1.0  ...                  0                 0   \n",
            "4        0.0        35.0     1.0  ...                  0                 0   \n",
            "\n",
            "  ind_reca_fin_ult1 ind_tjcr_fin_ult1 ind_valo_fin_ult1 ind_viv_fin_ult1  \\\n",
            "0                 0                 0                 0                0   \n",
            "1                 0                 0                 0                0   \n",
            "2                 0                 0                 0                0   \n",
            "3                 0                 0                 0                0   \n",
            "4                 0                 0                 0                0   \n",
            "\n",
            "   ind_nomina_ult1  ind_nom_pens_ult1 ind_recibo_ult1  checked_services  \n",
            "0              0.0                0.0               0               2.0  \n",
            "1              0.0                0.0               0               1.0  \n",
            "2              0.0                0.0               0               1.0  \n",
            "3              0.0                0.0               0               1.0  \n",
            "4              0.0                0.0               0               2.0  \n",
            "\n",
            "[5 rows x 47 columns]\n",
            "Index(['fecha_dato', 'ncodpers', 'ind_empleado', 'pais_residencia', 'sexo',\n",
            "       'age', 'fecha_alta', 'ind_nuevo', 'antiguedad', 'indrel', 'indrel_1mes',\n",
            "       'tiprel_1mes', 'indresi', 'indext', 'canal_entrada', 'indfall',\n",
            "       'tipodom', 'cod_prov', 'nomprov', 'ind_actividad_cliente', 'renta',\n",
            "       'segmento', 'ind_ahor_fin_ult1', 'ind_aval_fin_ult1',\n",
            "       'ind_cco_fin_ult1', 'ind_cder_fin_ult1', 'ind_cno_fin_ult1',\n",
            "       'ind_ctju_fin_ult1', 'ind_ctma_fin_ult1', 'ind_ctop_fin_ult1',\n",
            "       'ind_ctpp_fin_ult1', 'ind_deco_fin_ult1', 'ind_deme_fin_ult1',\n",
            "       'ind_dela_fin_ult1', 'ind_ecue_fin_ult1', 'ind_fond_fin_ult1',\n",
            "       'ind_hip_fin_ult1', 'ind_plan_fin_ult1', 'ind_pres_fin_ult1',\n",
            "       'ind_reca_fin_ult1', 'ind_tjcr_fin_ult1', 'ind_valo_fin_ult1',\n",
            "       'ind_viv_fin_ult1', 'ind_nomina_ult1', 'ind_nom_pens_ult1',\n",
            "       'ind_recibo_ult1', 'checked_services'],\n",
            "      dtype='object')\n"
          ]
        }
      ],
      "source": [
        "df_test1['checked_services'] = target_df_test1['checked_services']\n",
        "\n",
        "print(df_test1.head())\n",
        "print(df_test1.columns)"
      ]
    },
    {
      "cell_type": "code",
      "execution_count": null,
      "id": "310ff7e1-7245-4f47-ba0c-bdcff777a2ec",
      "metadata": {
        "id": "310ff7e1-7245-4f47-ba0c-bdcff777a2ec",
        "outputId": "40f601f1-5984-4023-84ce-2d7a4dc82b1d"
      },
      "outputs": [
        {
          "name": "stdout",
          "output_type": "stream",
          "text": [
            "Minimum number of products bought: 0.0\n",
            "Maximum number of products bought: 10.0\n",
            "Mean number of products bought: 1.6477\n"
          ]
        }
      ],
      "source": [
        "min_products = df_test1['checked_services'].min()\n",
        "\n",
        "# Calculate maximum value\n",
        "max_products = df_test1['checked_services'].max()\n",
        "\n",
        "# Calculate mean value\n",
        "mean_products = df_test1['checked_services'].mean()\n",
        "\n",
        "# Print the results\n",
        "print(\"Minimum number of products bought:\", min_products)\n",
        "print(\"Maximum number of products bought:\", max_products)\n",
        "print(\"Mean number of products bought:\", mean_products)"
      ]
    },
    {
      "cell_type": "code",
      "execution_count": null,
      "id": "2c58ab3d-f201-44be-9e93-494353185aed",
      "metadata": {
        "id": "2c58ab3d-f201-44be-9e93-494353185aed"
      },
      "outputs": [],
      "source": [
        "# I cannot delete some rows based on the products because the average is low,\n",
        "# but I will delete the ones who did not purchase anything."
      ]
    },
    {
      "cell_type": "code",
      "execution_count": null,
      "id": "4e9bba12-d349-4296-9a06-8bdcd725c968",
      "metadata": {
        "id": "4e9bba12-d349-4296-9a06-8bdcd725c968",
        "outputId": "067782d2-c4ce-43b6-80c4-0fdb7d390b65"
      },
      "outputs": [
        {
          "name": "stdout",
          "output_type": "stream",
          "text": [
            "Shape of filtered DataFrame:\n",
            " (9969, 47)\n",
            "\n",
            "New Dataset:\n",
            "   fecha_dato  ncodpers ind_empleado pais_residencia sexo  age  fecha_alta  \\\n",
            "0  2015-01-28   1375586            N              ES    H   35  2015-01-12   \n",
            "1  2015-01-28   1050611            N              ES    V   23  2012-08-10   \n",
            "2  2015-01-28   1050612            N              ES    V   23  2012-08-10   \n",
            "3  2015-01-28   1050613            N              ES    H   22  2012-08-10   \n",
            "4  2015-01-28   1050614            N              ES    V   23  2012-08-10   \n",
            "\n",
            "   ind_nuevo  antiguedad  indrel  ...  ind_plan_fin_ult1 ind_pres_fin_ult1  \\\n",
            "0        0.0         6.0     1.0  ...                  0                 0   \n",
            "1        0.0        35.0     1.0  ...                  0                 0   \n",
            "2        0.0        35.0     1.0  ...                  0                 0   \n",
            "3        0.0        35.0     1.0  ...                  0                 0   \n",
            "4        0.0        35.0     1.0  ...                  0                 0   \n",
            "\n",
            "  ind_reca_fin_ult1 ind_tjcr_fin_ult1 ind_valo_fin_ult1 ind_viv_fin_ult1  \\\n",
            "0                 0                 0                 0                0   \n",
            "1                 0                 0                 0                0   \n",
            "2                 0                 0                 0                0   \n",
            "3                 0                 0                 0                0   \n",
            "4                 0                 0                 0                0   \n",
            "\n",
            "   ind_nomina_ult1  ind_nom_pens_ult1 ind_recibo_ult1  checked_services  \n",
            "0              0.0                0.0               0               2.0  \n",
            "1              0.0                0.0               0               1.0  \n",
            "2              0.0                0.0               0               1.0  \n",
            "3              0.0                0.0               0               1.0  \n",
            "4              0.0                0.0               0               2.0  \n",
            "\n",
            "[5 rows x 47 columns]\n"
          ]
        }
      ],
      "source": [
        "threshold = 0\n",
        "new_dft = df_test1[df_test1['checked_services'] > threshold]\n",
        "\n",
        "print(\"Shape of filtered DataFrame:\\n\", new_dft.shape)\n",
        "\n",
        "print(\"\\nNew Dataset:\")\n",
        "print(new_dft.head())"
      ]
    },
    {
      "cell_type": "code",
      "execution_count": null,
      "id": "8e168da0-1af4-4444-a25f-1ed18fe2ea5c",
      "metadata": {
        "id": "8e168da0-1af4-4444-a25f-1ed18fe2ea5c",
        "outputId": "79aebd62-0319-4983-bddc-597cb055bd8b"
      },
      "outputs": [
        {
          "name": "stdout",
          "output_type": "stream",
          "text": [
            "Numerical Features (34):\n",
            "['ncodpers', 'ind_nuevo', 'antiguedad', 'indrel', 'indrel_1mes', 'tipodom', 'cod_prov', 'ind_actividad_cliente', 'renta', 'ind_ahor_fin_ult1', 'ind_aval_fin_ult1', 'ind_cco_fin_ult1', 'ind_cder_fin_ult1', 'ind_cno_fin_ult1', 'ind_ctju_fin_ult1', 'ind_ctma_fin_ult1', 'ind_ctop_fin_ult1', 'ind_ctpp_fin_ult1', 'ind_deco_fin_ult1', 'ind_deme_fin_ult1', 'ind_dela_fin_ult1', 'ind_ecue_fin_ult1', 'ind_fond_fin_ult1', 'ind_hip_fin_ult1', 'ind_plan_fin_ult1', 'ind_pres_fin_ult1', 'ind_reca_fin_ult1', 'ind_tjcr_fin_ult1', 'ind_valo_fin_ult1', 'ind_viv_fin_ult1', 'ind_nomina_ult1', 'ind_nom_pens_ult1', 'ind_recibo_ult1', 'checked_services']\n",
            "\n",
            "Categorical Features (13):\n",
            "['fecha_dato', 'ind_empleado', 'pais_residencia', 'sexo', 'age', 'fecha_alta', 'tiprel_1mes', 'indresi', 'indext', 'canal_entrada', 'indfall', 'nomprov', 'segmento']\n"
          ]
        }
      ],
      "source": [
        "new_dft = new_dft.copy()\n",
        "\n",
        "# Convert 'checked_services' column to numerical\n",
        "new_dft['checked_services'] = pd.to_numeric(new_dft['checked_services'], errors='coerce')\n",
        "\n",
        "# Convert 'renta' column to numerical\n",
        "new_dft['renta'] = pd.to_numeric(new_dft['renta'], errors='coerce')\n",
        "\n",
        "# Select numerical and categorical features\n",
        "new_dft_num_feat = new_dft.select_dtypes(include=['int64', 'float64']).columns.tolist()\n",
        "new_dft_cat_feat = new_dft.select_dtypes(include=['object']).columns.tolist()\n",
        "\n",
        "# Display the numerical and categorical features\n",
        "new_dft_numerical_features = len(new_dft_num_feat)\n",
        "new_dft_categorical_features = len(new_dft_cat_feat)\n",
        "\n",
        "print(\"Numerical Features ({}):\".format(new_dft_numerical_features))\n",
        "print(new_dft_num_feat)\n",
        "print(\"\\nCategorical Features ({}):\".format(new_dft_categorical_features))\n",
        "print(new_dft_cat_feat)"
      ]
    },
    {
      "cell_type": "code",
      "execution_count": null,
      "id": "00c39a54-eefc-4c4d-84c0-91437e41e337",
      "metadata": {
        "id": "00c39a54-eefc-4c4d-84c0-91437e41e337",
        "outputId": "cf6ca020-50d7-405c-d74f-5b55ca59a525"
      },
      "outputs": [
        {
          "name": "stdout",
          "output_type": "stream",
          "text": [
            "Number of missing values before imputation:\n",
            "fecha_dato                  0\n",
            "ncodpers                    0\n",
            "ind_empleado               50\n",
            "pais_residencia            50\n",
            "sexo                       50\n",
            "age                         0\n",
            "fecha_alta                 50\n",
            "ind_nuevo                  50\n",
            "antiguedad                  0\n",
            "indrel                     50\n",
            "indrel_1mes                50\n",
            "tiprel_1mes                50\n",
            "indresi                    50\n",
            "indext                     50\n",
            "canal_entrada              50\n",
            "indfall                    50\n",
            "tipodom                    50\n",
            "cod_prov                   54\n",
            "nomprov                    54\n",
            "ind_actividad_cliente      50\n",
            "renta                    1896\n",
            "segmento                   50\n",
            "ind_ahor_fin_ult1           0\n",
            "ind_aval_fin_ult1           0\n",
            "ind_cco_fin_ult1            0\n",
            "ind_cder_fin_ult1           0\n",
            "ind_cno_fin_ult1            0\n",
            "ind_ctju_fin_ult1           0\n",
            "ind_ctma_fin_ult1           0\n",
            "ind_ctop_fin_ult1           0\n",
            "ind_ctpp_fin_ult1           0\n",
            "ind_deco_fin_ult1           0\n",
            "ind_deme_fin_ult1           0\n",
            "ind_dela_fin_ult1           0\n",
            "ind_ecue_fin_ult1           0\n",
            "ind_fond_fin_ult1           0\n",
            "ind_hip_fin_ult1            0\n",
            "ind_plan_fin_ult1           0\n",
            "ind_pres_fin_ult1           0\n",
            "ind_reca_fin_ult1           0\n",
            "ind_tjcr_fin_ult1           0\n",
            "ind_valo_fin_ult1           0\n",
            "ind_viv_fin_ult1            0\n",
            "ind_nomina_ult1            11\n",
            "ind_nom_pens_ult1          11\n",
            "ind_recibo_ult1             0\n",
            "checked_services            0\n",
            "dtype: int64\n",
            "\n",
            "Number of missing values after imputation:\n",
            "fecha_dato                0\n",
            "ncodpers                  0\n",
            "ind_empleado             50\n",
            "pais_residencia          50\n",
            "sexo                     50\n",
            "age                       0\n",
            "fecha_alta               50\n",
            "ind_nuevo                 0\n",
            "antiguedad                0\n",
            "indrel                    0\n",
            "indrel_1mes               0\n",
            "tiprel_1mes              50\n",
            "indresi                  50\n",
            "indext                   50\n",
            "canal_entrada            50\n",
            "indfall                  50\n",
            "tipodom                   0\n",
            "cod_prov                  0\n",
            "nomprov                  54\n",
            "ind_actividad_cliente     0\n",
            "renta                     0\n",
            "segmento                 50\n",
            "ind_ahor_fin_ult1         0\n",
            "ind_aval_fin_ult1         0\n",
            "ind_cco_fin_ult1          0\n",
            "ind_cder_fin_ult1         0\n",
            "ind_cno_fin_ult1          0\n",
            "ind_ctju_fin_ult1         0\n",
            "ind_ctma_fin_ult1         0\n",
            "ind_ctop_fin_ult1         0\n",
            "ind_ctpp_fin_ult1         0\n",
            "ind_deco_fin_ult1         0\n",
            "ind_deme_fin_ult1         0\n",
            "ind_dela_fin_ult1         0\n",
            "ind_ecue_fin_ult1         0\n",
            "ind_fond_fin_ult1         0\n",
            "ind_hip_fin_ult1          0\n",
            "ind_plan_fin_ult1         0\n",
            "ind_pres_fin_ult1         0\n",
            "ind_reca_fin_ult1         0\n",
            "ind_tjcr_fin_ult1         0\n",
            "ind_valo_fin_ult1         0\n",
            "ind_viv_fin_ult1          0\n",
            "ind_nomina_ult1           0\n",
            "ind_nom_pens_ult1         0\n",
            "ind_recibo_ult1           0\n",
            "checked_services          0\n",
            "dtype: int64\n"
          ]
        }
      ],
      "source": [
        "### check before doing it...\n",
        "\n",
        "import pandas as pd\n",
        "import numpy as np\n",
        "import xgboost as xgb\n",
        "\n",
        "# Assuming new_df is your DataFrame with missing values\n",
        "# Check for missing values before imputation\n",
        "print(\"Number of missing values before imputation:\")\n",
        "print(new_dft.isnull().sum())\n",
        "\n",
        "# Define XGBoost model\n",
        "xgb_model = xgb.XGBRegressor()\n",
        "\n",
        "# Define features and target variable\n",
        "X = new_dft[new_dft_num_feat].values  # Convert to numpy array\n",
        "y = new_dft['checked_services'].values  # Replace 'checked_services' with your target variable\n",
        "\n",
        "# Train the model\n",
        "xgb_model.fit(X, y)  # Make sure to include the target variable\n",
        "\n",
        "# Use the trained model to predict missing values\n",
        "imputed_values = xgb_model.predict(X)\n",
        "\n",
        "# Replace missing values in your dataframe\n",
        "new_dft[new_dft_num_feat] = np.where(new_dft[new_dft_num_feat].isnull(), imputed_values.reshape(-1, 1), new_dft[new_dft_num_feat])\n",
        "\n",
        "# Check for missing values after imputation\n",
        "print(\"\\nNumber of missing values after imputation:\")\n",
        "print(new_dft.isnull().sum())"
      ]
    },
    {
      "cell_type": "code",
      "execution_count": null,
      "id": "8a67baf8-348b-4f4e-9adc-b4019407666d",
      "metadata": {
        "id": "8a67baf8-348b-4f4e-9adc-b4019407666d",
        "outputId": "55f335ff-c6c5-4923-b1b2-c86d395fa915"
      },
      "outputs": [
        {
          "name": "stdout",
          "output_type": "stream",
          "text": [
            "Numerical Features (35):\n",
            "['ncodpers', 'age', 'ind_nuevo', 'antiguedad', 'indrel', 'indrel_1mes', 'tipodom', 'cod_prov', 'ind_actividad_cliente', 'renta', 'ind_ahor_fin_ult1', 'ind_aval_fin_ult1', 'ind_cco_fin_ult1', 'ind_cder_fin_ult1', 'ind_cno_fin_ult1', 'ind_ctju_fin_ult1', 'ind_ctma_fin_ult1', 'ind_ctop_fin_ult1', 'ind_ctpp_fin_ult1', 'ind_deco_fin_ult1', 'ind_deme_fin_ult1', 'ind_dela_fin_ult1', 'ind_ecue_fin_ult1', 'ind_fond_fin_ult1', 'ind_hip_fin_ult1', 'ind_plan_fin_ult1', 'ind_pres_fin_ult1', 'ind_reca_fin_ult1', 'ind_tjcr_fin_ult1', 'ind_valo_fin_ult1', 'ind_viv_fin_ult1', 'ind_nomina_ult1', 'ind_nom_pens_ult1', 'ind_recibo_ult1', 'checked_services']\n",
            "\n",
            "Categorical Features (12):\n",
            "['fecha_dato', 'ind_empleado', 'pais_residencia', 'sexo', 'fecha_alta', 'tiprel_1mes', 'indresi', 'indext', 'canal_entrada', 'indfall', 'nomprov', 'segmento']\n"
          ]
        }
      ],
      "source": [
        "# Ready to make model after adjusting both the train and test\n",
        "\n",
        "print(\"Numerical Features ({}):\".format(new_numerical_features))\n",
        "print(new_num_feat)\n",
        "print(\"\\nCategorical Features ({}):\".format(new_categorical_features))\n",
        "print(new_cat_feat)"
      ]
    },
    {
      "cell_type": "code",
      "execution_count": null,
      "id": "ee2fa6d8-2705-4d26-b02d-355fa47c8350",
      "metadata": {
        "id": "ee2fa6d8-2705-4d26-b02d-355fa47c8350"
      },
      "outputs": [],
      "source": [
        "# train features\n",
        "numerical_features_train = [new_num_feat]\n",
        "categorical_features_train = [new_cat_feat]\n",
        "\n",
        "target_variable_train = 'checked_services'\n",
        "\n",
        "# test features\n",
        "numerical_features_test = [n_features]\n",
        "categorical_features_test = [c_features]\n",
        "\n",
        "target_variable_test = 'checked_services'"
      ]
    },
    {
      "cell_type": "code",
      "execution_count": null,
      "id": "a1571eee-7f35-49d5-aafe-66031ebfc595",
      "metadata": {
        "id": "a1571eee-7f35-49d5-aafe-66031ebfc595"
      },
      "outputs": [],
      "source": [
        "# Split train and test sets into features and target variable\n",
        "X_train = new_df.drop(columns=[target_variable_train])\n",
        "y_train = new_df[target_variable_train]\n",
        "\n",
        "X_test = new_dft.drop(columns=[target_variable_test])\n",
        "y_test = new_dft[target_variable_test]"
      ]
    },
    {
      "cell_type": "code",
      "execution_count": null,
      "id": "ed9d2e60-5519-440a-84c1-33a24967943e",
      "metadata": {
        "id": "ed9d2e60-5519-440a-84c1-33a24967943e",
        "outputId": "98d6c3c1-b243-419a-8ace-fd2409b4f440"
      },
      "outputs": [
        {
          "name": "stdout",
          "output_type": "stream",
          "text": [
            "Unique values in ['fecha_dato', 'ind_empleado', 'pais_residencia', 'sexo', 'fecha_alta', 'tiprel_1mes', 'indresi', 'indext', 'canal_entrada', 'indfall', 'nomprov', 'segmento']:\n",
            "fecha_dato  ind_empleado  pais_residencia  sexo  fecha_alta  tiprel_1mes  indresi  indext  canal_entrada  indfall  nomprov      segmento         \n",
            "2015-01-28  N             ES               H     2012-08-20  A            S        N       KFC            N        MADRID       02 - PARTICULARES    3\n",
            "                                           V     2012-08-03  A            S        N       KFC            N        MADRID       02 - PARTICULARES    3\n",
            "                                                 2012-08-20  A            S        N       KFC            N        MADRID       02 - PARTICULARES    3\n",
            "                                                 2012-08-27  A            S        N       KFC            N        MADRID       02 - PARTICULARES    3\n",
            "                                           H     2012-09-06  A            S        N       KFC            N        MADRID       02 - PARTICULARES    2\n",
            "                                                                                                                                                    ..\n",
            "                                                 2012-09-04  A            S        N       KFC            N        PALMAS, LAS  02 - PARTICULARES    1\n",
            "                                                                                                                   VALENCIA     02 - PARTICULARES    1\n",
            "                                                                                                                   VALLADOLID   02 - PARTICULARES    1\n",
            "                                                                                   S       KAT            N        GIPUZKOA     02 - PARTICULARES    1\n",
            "                                                 2012-08-31  A            S        S       KFC            N        SEVILLA      02 - PARTICULARES    1\n",
            "Name: count, Length: 207, dtype: int64\n"
          ]
        }
      ],
      "source": [
        "for column in categorical_features_train:\n",
        "    unique_values = new_df[column].value_counts()\n",
        "    print(f\"Unique values in {column}:\\n{unique_values}\")"
      ]
    },
    {
      "cell_type": "code",
      "execution_count": null,
      "id": "be0f1021-a991-4ec2-bf5e-71d2d87143ef",
      "metadata": {
        "id": "be0f1021-a991-4ec2-bf5e-71d2d87143ef",
        "outputId": "57c4c039-c20d-42a0-f95b-fabbb508ff18"
      },
      "outputs": [
        {
          "name": "stdout",
          "output_type": "stream",
          "text": [
            "     fecha_dato   ncodpers  ind_empleado  pais_residencia  sexo   age  \\\n",
            "68   2015-01-28  1050651.0             0                1     0  30.0   \n",
            "69   2015-01-28  1050652.0             0                1     0  31.0   \n",
            "72   2015-01-28  1050659.0             0                1     1  39.0   \n",
            "121  2015-01-28  1050565.0             0                1     0  33.0   \n",
            "187  2015-01-28  1050869.0             0                1     1  31.0   \n",
            "\n",
            "     fecha_alta  ind_nuevo  antiguedad  indrel  ...  ind_plan_fin_ult1  \\\n",
            "68   2012-08-10        0.0        35.0     1.0  ...                0.0   \n",
            "69   2012-08-10        0.0        35.0     1.0  ...                0.0   \n",
            "72   2012-08-10        0.0        35.0     1.0  ...                0.0   \n",
            "121  2012-08-10        0.0        35.0     1.0  ...                0.0   \n",
            "187  2012-08-10        0.0        35.0     1.0  ...                0.0   \n",
            "\n",
            "     ind_pres_fin_ult1  ind_reca_fin_ult1  ind_tjcr_fin_ult1  \\\n",
            "68                 0.0                1.0                0.0   \n",
            "69                 0.0                0.0                0.0   \n",
            "72                 0.0                1.0                1.0   \n",
            "121                0.0                0.0                0.0   \n",
            "187                0.0                0.0                0.0   \n",
            "\n",
            "     ind_valo_fin_ult1  ind_viv_fin_ult1  ind_nomina_ult1  ind_nom_pens_ult1  \\\n",
            "68                 0.0               0.0              0.0                0.0   \n",
            "69                 1.0               0.0              0.0                0.0   \n",
            "72                 0.0               0.0              1.0                1.0   \n",
            "121                0.0               0.0              1.0                1.0   \n",
            "187                0.0               0.0              1.0                1.0   \n",
            "\n",
            "    ind_recibo_ult1  checked_services  \n",
            "68              1.0               5.0  \n",
            "69              1.0               5.0  \n",
            "72              1.0               8.0  \n",
            "121             1.0               5.0  \n",
            "187             1.0               6.0  \n",
            "\n",
            "[5 rows x 47 columns]\n"
          ]
        }
      ],
      "source": [
        "from sklearn.preprocessing import LabelEncoder\n",
        "label_encoder = LabelEncoder()\n",
        "\n",
        "categorical_columns = ['ind_empleado', 'pais_residencia', 'sexo', 'tiprel_1mes',\n",
        "                       'indresi', 'indext', 'canal_entrada', 'indfall', 'segmento']\n",
        "\n",
        "for column in categorical_columns:\n",
        "    new_df[column] = label_encoder.fit_transform(new_df[column])\n",
        "\n",
        "print(new_df.head())"
      ]
    },
    {
      "cell_type": "code",
      "execution_count": null,
      "id": "25e54eeb-56f4-4d8a-9517-62313c0a4f37",
      "metadata": {
        "id": "25e54eeb-56f4-4d8a-9517-62313c0a4f37"
      },
      "outputs": [],
      "source": [
        "# Check if any non-numeric values are present in categorical features\n",
        "for column in categorical_features_train:\n",
        "    non_numeric_values = new_df[column].apply(lambda x: isinstance(x, str))\n",
        "    if non_numeric_values.any():\n",
        "        print(f\"Non-numeric values found in {column}\")\n",
        "        print(new_df.loc[non_numeric_values, column].unique())"
      ]
    },
    {
      "cell_type": "code",
      "execution_count": null,
      "id": "0fcdffe0-ca80-4d65-ae7c-e42a1f9f4620",
      "metadata": {
        "id": "0fcdffe0-ca80-4d65-ae7c-e42a1f9f4620"
      },
      "outputs": [],
      "source": [
        "## Fixed non-numeric in the train set, but the testing set did not encode"
      ]
    },
    {
      "cell_type": "code",
      "execution_count": null,
      "id": "d6f5232c-2db6-4255-acbf-5a9a8b49ab9f",
      "metadata": {
        "id": "d6f5232c-2db6-4255-acbf-5a9a8b49ab9f",
        "outputId": "9b88d059-45ce-4818-9434-5bbef98d3f92"
      },
      "outputs": [
        {
          "name": "stdout",
          "output_type": "stream",
          "text": [
            "Unique values in ['fecha_dato', 'ind_empleado', 'pais_residencia', 'sexo', 'age', 'fecha_alta', 'antiguedad', 'tiprel_1mes', 'indresi', 'indext', 'canal_entrada', 'indfall', 'nomprov', 'segmento']:\n",
            "fecha_dato  ind_empleado  pais_residencia  sexo  age  fecha_alta  antiguedad  tiprel_1mes  indresi  indext  canal_entrada  indfall  nomprov    segmento          \n",
            "2015-01-28  N             ES               H     23   2012-08-07  35.0        I            S        N       KHE            N        BARCELONA  03 - UNIVERSITARIO    122\n",
            "                                           V     23   2012-08-08  35.0        I            S        N       KHE            N        BARCELONA  03 - UNIVERSITARIO    102\n",
            "                                                      2012-08-07  35.0        I            S        N       KHE            N        BARCELONA  03 - UNIVERSITARIO     77\n",
            "                                           H     23   2012-08-08  35.0        I            S        N       KHE            N        BARCELONA  03 - UNIVERSITARIO     59\n",
            "                                                      2012-08-09  35.0        I            S        N       KHE            N        CASTELLON  03 - UNIVERSITARIO     36\n",
            "                                                                                                                                                                    ... \n",
            "                                                 33   2012-08-20  35.0        A            S        N       KFC            N        CORDOBA    02 - PARTICULARES       1\n",
            "                                                                                                            KAT            N        MADRID     02 - PARTICULARES       1\n",
            "                                                      2012-08-17  35.0        A            S        N       KHE            N        BARCELONA  03 - UNIVERSITARIO      1\n",
            "                                                      2012-08-14  35.0        A            S        N       KFC            N        MADRID     02 - PARTICULARES       1\n",
            "                                                      2012-08-29  35.0        A            S        N       KAT            N        SALAMANCA  03 - UNIVERSITARIO      1\n",
            "Name: count, Length: 5682, dtype: int64\n"
          ]
        }
      ],
      "source": [
        "# Loop through categorical features in the test dataset\n",
        "for column in categorical_features_test:\n",
        "    unique_values = new_dft[column].value_counts()\n",
        "    print(f\"Unique values in {column}:\\n{unique_values}\")\n"
      ]
    },
    {
      "cell_type": "code",
      "execution_count": null,
      "id": "15b981fc-fbf1-4be8-8fc2-eba7ae28f0ce",
      "metadata": {
        "id": "15b981fc-fbf1-4be8-8fc2-eba7ae28f0ce",
        "outputId": "acdf3062-5092-4d65-8b3c-4773da9f0a6a"
      },
      "outputs": [
        {
          "name": "stdout",
          "output_type": "stream",
          "text": [
            "   fecha_dato   ncodpers  ind_empleado  pais_residencia  sexo  age  \\\n",
            "0  2015-01-28  1375586.0             0                3     0   35   \n",
            "1  2015-01-28  1050611.0             0                3     1   23   \n",
            "2  2015-01-28  1050612.0             0                3     1   23   \n",
            "3  2015-01-28  1050613.0             0                3     0   22   \n",
            "4  2015-01-28  1050614.0             0                3     1   23   \n",
            "\n",
            "   fecha_alta  ind_nuevo  antiguedad  indrel  ...  ind_plan_fin_ult1  \\\n",
            "0  2015-01-12        0.0         6.0     1.0  ...                0.0   \n",
            "1  2012-08-10        0.0        35.0     1.0  ...                0.0   \n",
            "2  2012-08-10        0.0        35.0     1.0  ...                0.0   \n",
            "3  2012-08-10        0.0        35.0     1.0  ...                0.0   \n",
            "4  2012-08-10        0.0        35.0     1.0  ...                0.0   \n",
            "\n",
            "   ind_pres_fin_ult1  ind_reca_fin_ult1  ind_tjcr_fin_ult1  ind_valo_fin_ult1  \\\n",
            "0                0.0                0.0                0.0                0.0   \n",
            "1                0.0                0.0                0.0                0.0   \n",
            "2                0.0                0.0                0.0                0.0   \n",
            "3                0.0                0.0                0.0                0.0   \n",
            "4                0.0                0.0                0.0                0.0   \n",
            "\n",
            "   ind_viv_fin_ult1  ind_nomina_ult1  ind_nom_pens_ult1 ind_recibo_ult1  \\\n",
            "0               0.0              0.0                0.0             0.0   \n",
            "1               0.0              0.0                0.0             0.0   \n",
            "2               0.0              0.0                0.0             0.0   \n",
            "3               0.0              0.0                0.0             0.0   \n",
            "4               0.0              0.0                0.0             0.0   \n",
            "\n",
            "   checked_services  \n",
            "0               2.0  \n",
            "1               1.0  \n",
            "2               1.0  \n",
            "3               1.0  \n",
            "4               2.0  \n",
            "\n",
            "[5 rows x 47 columns]\n"
          ]
        }
      ],
      "source": [
        "from sklearn.preprocessing import LabelEncoder\n",
        "label_encoder = LabelEncoder()\n",
        "\n",
        "for column in categorical_columns:\n",
        "    new_dft[column] = label_encoder.fit_transform(new_dft[column])\n",
        "\n",
        "print(new_dft.head())"
      ]
    },
    {
      "cell_type": "code",
      "execution_count": null,
      "id": "422f80f1-2589-4ab8-8898-0838bc43fbfd",
      "metadata": {
        "id": "422f80f1-2589-4ab8-8898-0838bc43fbfd",
        "outputId": "18324efd-dd75-4769-ce3a-179062678aa7"
      },
      "outputs": [
        {
          "name": "stdout",
          "output_type": "stream",
          "text": [
            "Non-numeric values found in the train set.\n",
            "Non-numeric values found in the test set.\n"
          ]
        }
      ],
      "source": [
        "non_numeric_train = new_df.select_dtypes(exclude=['number'])\n",
        "if non_numeric_train.empty:\n",
        "    print(\"No non-numeric values found in the train set.\")\n",
        "else:\n",
        "    print(\"Non-numeric values found in the train set.\")\n",
        "\n",
        "non_numeric_test = new_dft.select_dtypes(exclude=['number'])\n",
        "if non_numeric_test.empty:\n",
        "    print(\"No non-numeric values found in the test set.\")\n",
        "else:\n",
        "    print(\"Non-numeric values found in the test set.\")"
      ]
    },
    {
      "cell_type": "code",
      "execution_count": null,
      "id": "8874faf0-fac7-4194-9955-28756b80a420",
      "metadata": {
        "id": "8874faf0-fac7-4194-9955-28756b80a420",
        "outputId": "8a00a493-99f2-489a-b754-b4df743916e3"
      },
      "outputs": [
        {
          "name": "stdout",
          "output_type": "stream",
          "text": [
            "Non-numeric columns in train set: ['fecha_dato', 'ind_empleado', 'pais_residencia', 'sexo', 'fecha_alta', 'tiprel_1mes', 'indresi', 'indext', 'canal_entrada', 'indfall', 'nomprov', 'segmento']\n",
            "Non-numeric columns in test set: ['fecha_dato', 'ind_empleado', 'pais_residencia', 'sexo', 'age', 'fecha_alta', 'tiprel_1mes', 'indresi', 'indext', 'canal_entrada', 'indfall', 'nomprov', 'segmento']\n"
          ]
        }
      ],
      "source": [
        "# Check for non-numeric values in the dataframe\n",
        "non_numeric_columns_train = X_train.select_dtypes(exclude=['number']).columns.tolist()\n",
        "non_numeric_columns_test = X_test.select_dtypes(exclude=['number']).columns.tolist()\n",
        "\n",
        "print(\"Non-numeric columns in train set:\", non_numeric_columns_train)\n",
        "print(\"Non-numeric columns in test set:\", non_numeric_columns_test)\n"
      ]
    },
    {
      "cell_type": "code",
      "execution_count": null,
      "id": "917f32ca-c7e3-4c65-ac57-cf47dc339743",
      "metadata": {
        "id": "917f32ca-c7e3-4c65-ac57-cf47dc339743"
      },
      "outputs": [],
      "source": [
        "# key representing each number for your columns (for both train and test)\n",
        "\n",
        "key = {\n",
        "    'ind_empleado': {'A': 0, 'B': 1, 'F': 2, 'N': 3, 'P': 4},\n",
        "    'pais_residencia': {'ES': 0, 'CH': 1, 'DE': 2, 'GB': 3, 'BE': 4, 'DJ': 5, 'IE': 6, 'QA': 7, 'US': 8, 'VE': 9,\n",
        "                       'DO': 10, 'SE': 11, 'AR': 12, 'CA': 13, 'PL': 14, 'CN': 15, 'CM': 16, 'FR': 17, 'AT': 18,\n",
        "                       'RO': 19, 'LU': 20, 'PT': 21, 'CL': 22, 'IT': 23, 'MR': 24, 'MX': 25, 'SN': 26, 'BR': 27,\n",
        "                       'CO': 28, 'PE': 29, 'RU': 30, 'LT': 31, 'EE': 32, 'MA': 33, 'HN': 34, 'BG': 35, 'NO': 36,\n",
        "                       'GT': 37, 'UA': 38, 'NL': 39, 'GA': 40, 'IL': 41, 'JP': 42, 'EC': 43, 'IN': 44},\n",
        "    'sexo': {'V': 0, 'H': 1},\n",
        "    'tiprel_1mes': {'A': 0, 'I': 1, 'P': 2, 'R': 3},\n",
        "    'indresi': {'S': 0, 'N': 1},\n",
        "    'indext': {'N': 0, 'S': 1},\n",
        "    'canal_entrada': {'KAT': 0, 'KHE': 1, 'KFC': 2, 'KHN': 3, 'KFA': 4, 'KHM': 5, 'KHL': 6, 'RED': 7, 'KHQ': 8,\n",
        "                      'KHO': 9, 'KHK': 10, 'KAZ': 11, 'KEH': 12, 'KBG': 13, 'KHF': 14, 'KHC': 15, 'KHD': 16,\n",
        "                      'KAK': 17, 'KAD': 18, 'KDH': 19, 'KGC': 20},\n",
        "    'indfall': {'N': 0, 'S': 1},\n",
        "    'segmento': {'01 - TOP': 0, '02 - PARTICULARES': 1, '03 - UNIVERSITARIO': 2}\n",
        "}\n"
      ]
    },
    {
      "cell_type": "code",
      "execution_count": null,
      "id": "7f34b1d6-4997-4187-a7f1-10b78f564f64",
      "metadata": {
        "id": "7f34b1d6-4997-4187-a7f1-10b78f564f64",
        "outputId": "f63bbf4f-fb45-4b7e-af13-cda11fe187e9"
      },
      "outputs": [
        {
          "data": {
            "image/png": "[encoded data removed]",
            "text/plain": [
              "<Figure size 1500x500 with 2 Axes>"
            ]
          },
          "metadata": {},
          "output_type": "display_data"
        },
        {
          "data": {
            "image/png": "[encoded data removed]",
            "text/plain": [
              "<Figure size 1500x500 with 2 Axes>"
            ]
          },
          "metadata": {},
          "output_type": "display_data"
        },
        {
          "data": {
            "image/png": "[encoded data removed]",
            "text/plain": [
              "<Figure size 1500x500 with 2 Axes>"
            ]
          },
          "metadata": {},
          "output_type": "display_data"
        },
        {
          "data": {
            "image/png": "[encoded data removed]",
            "text/plain": [
              "<Figure size 1500x500 with 2 Axes>"
            ]
          },
          "metadata": {},
          "output_type": "display_data"
        },
        {
          "data": {
            "image/png": "[encoded data removed]",
            "text/plain": [
              "<Figure size 1500x500 with 2 Axes>"
            ]
          },
          "metadata": {},
          "output_type": "display_data"
        },
        {
          "data": {
            "image/png": "[encoded data removed]",
            "text/plain": [
              "<Figure size 1500x500 with 2 Axes>"
            ]
          },
          "metadata": {},
          "output_type": "display_data"
        },
        {
          "data": {
            "image/png": "[encoded data removed]",
            "text/plain": [
              "<Figure size 1500x500 with 2 Axes>"
            ]
          },
          "metadata": {},
          "output_type": "display_data"
        }
      ],
      "source": [
        "import seaborn as sns\n",
        "import matplotlib.pyplot as plt\n",
        "\n",
        "# Define categorical columns and their values for train and test datasets\n",
        "categorical_columns = ['ind_empleado','sexo', 'tiprel_1mes', 'indresi',\n",
        "                       'indext', 'indfall', 'segmento']\n",
        "\n",
        "# Define colors for train and test datasets\n",
        "train_color = 'skyblue'\n",
        "test_color = 'salmon'\n",
        "\n",
        "# Plot each categorical column\n",
        "for col in categorical_columns:\n",
        "    # Create subplots for train and test datasets\n",
        "    fig, axs = plt.subplots(1, 2, figsize=(15, 5))\n",
        "\n",
        "    # Train dataset\n",
        "    sns.countplot(data=new_df, x=col, ax=axs[0], color=train_color)\n",
        "    axs[0].set_title(f'Train Dataset - {col}')\n",
        "\n",
        "    # Test dataset\n",
        "    sns.countplot(data=new_dft, x=col, ax=axs[1], color=test_color)\n",
        "    axs[1].set_title(f'Test Dataset - {col}')\n",
        "\n",
        "    plt.tight_layout()\n",
        "    plt.show()\n"
      ]
    },
    {
      "cell_type": "code",
      "execution_count": null,
      "id": "780f37fd-0ca3-455f-9894-7f2ea7892747",
      "metadata": {
        "id": "780f37fd-0ca3-455f-9894-7f2ea7892747"
      },
      "outputs": [],
      "source": [
        "### XGBOOST Section"
      ]
    },
    {
      "cell_type": "code",
      "execution_count": null,
      "id": "76f32107-f59b-45f8-a6e6-42ef89183787",
      "metadata": {
        "id": "76f32107-f59b-45f8-a6e6-42ef89183787",
        "outputId": "6c7968e8-bdc2-408a-8089-6952a0a78f83"
      },
      "outputs": [
        {
          "name": "stdout",
          "output_type": "stream",
          "text": [
            "     nomprov_AVILA  nomprov_GIRONA   age  indrel_1mes  fecha_alta_2012-08-23  \\\n",
            "68           False           False  30.0          1.0                  False   \n",
            "69           False           False  31.0          1.0                  False   \n",
            "72           False           False  39.0          1.0                  False   \n",
            "121          False           False  33.0          1.0                  False   \n",
            "187          False           False  31.0          1.0                  False   \n",
            "\n",
            "     fecha_alta_2012-08-24  ind_nomina_ult1  fecha_alta_2012-08-13  \\\n",
            "68                   False              0.0                  False   \n",
            "69                   False              0.0                  False   \n",
            "72                   False              1.0                  False   \n",
            "121                  False              1.0                  False   \n",
            "187                  False              1.0                  False   \n",
            "\n",
            "     pais_residencia  fecha_alta_2012-08-28  ...  ind_actividad_cliente  \\\n",
            "68                 1                  False  ...                    1.0   \n",
            "69                 1                  False  ...                    1.0   \n",
            "72                 1                  False  ...                    1.0   \n",
            "121                1                  False  ...                    1.0   \n",
            "187                1                  False  ...                    1.0   \n",
            "\n",
            "     ind_dela_fin_ult1  fecha_alta_2012-08-07  ind_aval_fin_ult1  \\\n",
            "68                 0.0                  False                0.0   \n",
            "69                 0.0                  False                0.0   \n",
            "72                 0.0                  False                0.0   \n",
            "121                0.0                  False                0.0   \n",
            "187                0.0                  False                0.0   \n",
            "\n",
            "     nomprov_CADIZ  ind_cder_fin_ult1  fecha_alta_2012-08-21  tiprel_1mes  \\\n",
            "68           False                0.0                  False            0   \n",
            "69           False                0.0                  False            0   \n",
            "72           False                0.0                  False            0   \n",
            "121          False                0.0                  False            0   \n",
            "187          False                0.0                  False            0   \n",
            "\n",
            "     nomprov_ZAMORA  nomprov_VALLADOLID  \n",
            "68            False               False  \n",
            "69            False                True  \n",
            "72            False               False  \n",
            "121           False               False  \n",
            "187           False               False  \n",
            "\n",
            "[5 rows x 116 columns]\n",
            "   nomprov_AVILA  nomprov_GIRONA   age  indrel_1mes  fecha_alta_2012-08-23  \\\n",
            "0          False           False  35.0          1.0                  False   \n",
            "1          False           False  23.0          1.0                  False   \n",
            "2          False           False  23.0          1.0                  False   \n",
            "3          False           False  22.0          1.0                  False   \n",
            "4          False           False  23.0          1.0                  False   \n",
            "\n",
            "   fecha_alta_2012-08-24  ind_nomina_ult1  fecha_alta_2012-08-13  \\\n",
            "0                  False              0.0                  False   \n",
            "1                  False              0.0                  False   \n",
            "2                  False              0.0                  False   \n",
            "3                  False              0.0                  False   \n",
            "4                  False              0.0                  False   \n",
            "\n",
            "   pais_residencia  fecha_alta_2012-08-28  ...  ind_actividad_cliente  \\\n",
            "0                3                  False  ...                    1.0   \n",
            "1                3                  False  ...                    0.0   \n",
            "2                3                  False  ...                    0.0   \n",
            "3                3                  False  ...                    0.0   \n",
            "4                3                  False  ...                    1.0   \n",
            "\n",
            "   ind_dela_fin_ult1  fecha_alta_2012-08-07  ind_aval_fin_ult1  nomprov_CADIZ  \\\n",
            "0                0.0                  False                0.0          False   \n",
            "1                0.0                  False                0.0          False   \n",
            "2                0.0                  False                0.0          False   \n",
            "3                0.0                  False                0.0          False   \n",
            "4                0.0                  False                0.0          False   \n",
            "\n",
            "   ind_cder_fin_ult1  fecha_alta_2012-08-21  tiprel_1mes  nomprov_ZAMORA  \\\n",
            "0                0.0                  False            0           False   \n",
            "1                0.0                  False            1           False   \n",
            "2                0.0                  False            1           False   \n",
            "3                0.0                  False            1           False   \n",
            "4                0.0                  False            0           False   \n",
            "\n",
            "   nomprov_VALLADOLID  \n",
            "0               False  \n",
            "1               False  \n",
            "2               False  \n",
            "3               False  \n",
            "4               False  \n",
            "\n",
            "[5 rows x 116 columns]\n"
          ]
        }
      ],
      "source": [
        "# Separate features and target variable\n",
        "target_variable_train = 'checked_services'\n",
        "target_variable_test = 'checked_services'\n",
        "\n",
        "X_train = new_df.drop(columns=[target_variable_train])\n",
        "y_train = new_df[target_variable_train]\n",
        "\n",
        "X_test = new_dft.drop(columns=[target_variable_test])\n",
        "y_test = new_dft[target_variable_test]\n",
        "\n",
        "# Clean and convert 'age' column to numeric, handle non-numeric values\n",
        "X_train['age'] = pd.to_numeric(X_train['age'], errors='coerce')\n",
        "X_test['age'] = pd.to_numeric(X_test['age'], errors='coerce')\n",
        "\n",
        "# Fill NaN values\n",
        "X_train['age'] = X_train['age'].fillna(X_train['age'].median())\n",
        "X_test['age'] = X_test['age'].fillna(X_test['age'].median())\n",
        "\n",
        "# Select numeric and categorical columns\n",
        "numeric_columns_train = X_train.select_dtypes(include=['int', 'float']).columns\n",
        "categorical_columns_train = X_train.select_dtypes(include=['object', 'category']).columns\n",
        "\n",
        "numeric_columns_test = X_test.select_dtypes(include=['int', 'float']).columns\n",
        "categorical_columns_test = X_test.select_dtypes(include=['object', 'category']).columns\n",
        "\n",
        "# Ensure that all remaining columns in the train set are numeric or categorical\n",
        "numeric_df_train = X_train[numeric_columns_train]\n",
        "categorical_df_train = X_train[categorical_columns_train]\n",
        "\n",
        "# Ensure that all remaining columns in the test set are numeric or categorical\n",
        "numeric_df_test = X_test[numeric_columns_test]\n",
        "categorical_df_test = X_test[categorical_columns_test]\n",
        "\n",
        "# If categorical columns still exist, you may need to encode them for both train and test sets\n",
        "if not categorical_df_train.empty:\n",
        "    # Perform encoding for categorical columns in the train set\n",
        "    categorical_df_train = pd.get_dummies(categorical_df_train)\n",
        "\n",
        "# If categorical columns still exist, you may need to encode them for the test set\n",
        "if not categorical_df_test.empty:\n",
        "    # Perform encoding for categorical columns in the test set\n",
        "    categorical_df_test = pd.get_dummies(categorical_df_test)\n",
        "\n",
        "# Concatenate numeric and encoded categorical columns for the train set\n",
        "X_train_processed = pd.concat([numeric_df_train, categorical_df_train], axis=1)\n",
        "\n",
        "# Concatenate numeric and encoded categorical columns for the test set\n",
        "X_test_processed = pd.concat([numeric_df_test, categorical_df_test], axis=1)\n",
        "\n",
        "# Ensure the train and test sets have the same columns\n",
        "common_features = list(set(X_train_processed.columns).intersection(X_test_processed.columns))\n",
        "\n",
        "X_train_filtered = X_train_processed[common_features]\n",
        "X_test_filtered = X_test_processed[common_features]\n",
        "\n",
        "print(X_train_filtered.head())\n",
        "print(X_test_filtered.head())"
      ]
    },
    {
      "cell_type": "code",
      "execution_count": null,
      "id": "85efa876-0530-4d67-8e58-08b19aa1275f",
      "metadata": {
        "id": "85efa876-0530-4d67-8e58-08b19aa1275f",
        "outputId": "26028649-07bc-4d7c-9d9f-980c07a0f275"
      },
      "outputs": [
        {
          "name": "stdout",
          "output_type": "stream",
          "text": [
            "Number of features used during training: 46\n",
            "Number of columns in the test dataset: 46\n"
          ]
        }
      ],
      "source": [
        "print(\"Number of features used during training:\", len(X_train.columns))\n",
        "print(\"Number of columns in the test dataset:\", X_test.shape[1])"
      ]
    },
    {
      "cell_type": "code",
      "execution_count": null,
      "id": "f9ec2042-12c1-49bc-a65d-598055b22bfe",
      "metadata": {
        "scrolled": true,
        "id": "f9ec2042-12c1-49bc-a65d-598055b22bfe",
        "outputId": "86b43890-dba8-4044-ca34-b6606642e694"
      },
      "outputs": [
        {
          "name": "stdout",
          "output_type": "stream",
          "text": [
            "Columns in X_train after preprocessing: Index(['fecha_dato', 'ncodpers', 'ind_empleado', 'pais_residencia', 'sexo',\n",
            "       'age', 'fecha_alta', 'ind_nuevo', 'antiguedad', 'indrel', 'indrel_1mes',\n",
            "       'tiprel_1mes', 'indresi', 'indext', 'canal_entrada', 'indfall',\n",
            "       'tipodom', 'cod_prov', 'nomprov', 'ind_actividad_cliente', 'renta',\n",
            "       'segmento', 'ind_ahor_fin_ult1', 'ind_aval_fin_ult1',\n",
            "       'ind_cco_fin_ult1', 'ind_cder_fin_ult1', 'ind_cno_fin_ult1',\n",
            "       'ind_ctju_fin_ult1', 'ind_ctma_fin_ult1', 'ind_ctop_fin_ult1',\n",
            "       'ind_ctpp_fin_ult1', 'ind_deco_fin_ult1', 'ind_deme_fin_ult1',\n",
            "       'ind_dela_fin_ult1', 'ind_ecue_fin_ult1', 'ind_fond_fin_ult1',\n",
            "       'ind_hip_fin_ult1', 'ind_plan_fin_ult1', 'ind_pres_fin_ult1',\n",
            "       'ind_reca_fin_ult1', 'ind_tjcr_fin_ult1', 'ind_valo_fin_ult1',\n",
            "       'ind_viv_fin_ult1', 'ind_nomina_ult1', 'ind_nom_pens_ult1',\n",
            "       'ind_recibo_ult1'],\n",
            "      dtype='object')\n",
            "Columns in X_test: Index(['fecha_dato', 'ncodpers', 'ind_empleado', 'pais_residencia', 'sexo',\n",
            "       'age', 'fecha_alta', 'ind_nuevo', 'antiguedad', 'indrel', 'indrel_1mes',\n",
            "       'tiprel_1mes', 'indresi', 'indext', 'canal_entrada', 'indfall',\n",
            "       'tipodom', 'cod_prov', 'nomprov', 'ind_actividad_cliente', 'renta',\n",
            "       'segmento', 'ind_ahor_fin_ult1', 'ind_aval_fin_ult1',\n",
            "       'ind_cco_fin_ult1', 'ind_cder_fin_ult1', 'ind_cno_fin_ult1',\n",
            "       'ind_ctju_fin_ult1', 'ind_ctma_fin_ult1', 'ind_ctop_fin_ult1',\n",
            "       'ind_ctpp_fin_ult1', 'ind_deco_fin_ult1', 'ind_deme_fin_ult1',\n",
            "       'ind_dela_fin_ult1', 'ind_ecue_fin_ult1', 'ind_fond_fin_ult1',\n",
            "       'ind_hip_fin_ult1', 'ind_plan_fin_ult1', 'ind_pres_fin_ult1',\n",
            "       'ind_reca_fin_ult1', 'ind_tjcr_fin_ult1', 'ind_valo_fin_ult1',\n",
            "       'ind_viv_fin_ult1', 'ind_nomina_ult1', 'ind_nom_pens_ult1',\n",
            "       'ind_recibo_ult1'],\n",
            "      dtype='object')\n"
          ]
        }
      ],
      "source": [
        "print(\"Columns in X_train after preprocessing:\", X_train.columns)\n",
        "print(\"Columns in X_test:\", X_test.columns)"
      ]
    },
    {
      "cell_type": "code",
      "execution_count": null,
      "id": "a9e09f9b-8d8e-4583-8e8f-8435ea3f0f92",
      "metadata": {
        "id": "a9e09f9b-8d8e-4583-8e8f-8435ea3f0f92",
        "outputId": "15341ad7-a50e-4692-f6db-a50e40bf0db5"
      },
      "outputs": [
        {
          "name": "stdout",
          "output_type": "stream",
          "text": [
            "      age  ind_deco_fin_ult1  indrel_1mes  indresi  sexo  ind_hip_fin_ult1  \\\n",
            "68   30.0                0.0          1.0        1     0               0.0   \n",
            "69   31.0                0.0          1.0        1     0               0.0   \n",
            "72   39.0                0.0          1.0        1     1               0.0   \n",
            "121  33.0                0.0          1.0        1     0               0.0   \n",
            "187  31.0                0.0          1.0        1     1               0.0   \n",
            "\n",
            "     ind_plan_fin_ult1  ind_nomina_ult1         nomprov  pais_residencia  ...  \\\n",
            "68                 0.0              0.0  BALEARS, ILLES                1  ...   \n",
            "69                 0.0              0.0      VALLADOLID                1  ...   \n",
            "72                 0.0              1.0  BALEARS, ILLES                1  ...   \n",
            "121                0.0              1.0        VALENCIA                1  ...   \n",
            "187                0.0              1.0          MADRID                1  ...   \n",
            "\n",
            "     ind_deme_fin_ult1  antiguedad  indfall  ind_reca_fin_ult1  \\\n",
            "68                 0.0        35.0        0                1.0   \n",
            "69                 0.0        35.0        0                0.0   \n",
            "72                 0.0        35.0        0                1.0   \n",
            "121                0.0        35.0        0                0.0   \n",
            "187                0.0        35.0        0                0.0   \n",
            "\n",
            "     ind_ctma_fin_ult1  indrel  ind_cder_fin_ult1  tiprel_1mes   ncodpers  \\\n",
            "68                 0.0     1.0                0.0            0  1050651.0   \n",
            "69                 0.0     1.0                0.0            0  1050652.0   \n",
            "72                 0.0     1.0                0.0            0  1050659.0   \n",
            "121                0.0     1.0                0.0            0  1050565.0   \n",
            "187                0.0     1.0                0.0            0  1050869.0   \n",
            "\n",
            "     indext  \n",
            "68        0  \n",
            "69        0  \n",
            "72        0  \n",
            "121       0  \n",
            "187       1  \n",
            "\n",
            "[5 rows x 46 columns]\n",
            "    age  ind_deco_fin_ult1  indrel_1mes  indresi  sexo  ind_hip_fin_ult1  \\\n",
            "0  35.0                0.0          1.0        1     0               0.0   \n",
            "1  23.0                0.0          1.0        1     1               0.0   \n",
            "2  23.0                0.0          1.0        1     1               0.0   \n",
            "3  22.0                1.0          1.0        1     0               0.0   \n",
            "4  23.0                0.0          1.0        1     1               0.0   \n",
            "\n",
            "   ind_plan_fin_ult1  ind_nomina_ult1      nomprov  pais_residencia  ...  \\\n",
            "0                0.0              0.0       MALAGA                3  ...   \n",
            "1                0.0              0.0  CIUDAD REAL                3  ...   \n",
            "2                0.0              0.0  CIUDAD REAL                3  ...   \n",
            "3                0.0              0.0     ZARAGOZA                3  ...   \n",
            "4                0.0              0.0     ZARAGOZA                3  ...   \n",
            "\n",
            "   ind_deme_fin_ult1  antiguedad  indfall  ind_reca_fin_ult1  \\\n",
            "0                0.0         6.0        0                0.0   \n",
            "1                0.0        35.0        0                0.0   \n",
            "2                0.0        35.0        0                0.0   \n",
            "3                0.0        35.0        0                0.0   \n",
            "4                0.0        35.0        0                0.0   \n",
            "\n",
            "   ind_ctma_fin_ult1  indrel  ind_cder_fin_ult1  tiprel_1mes   ncodpers  \\\n",
            "0                0.0     1.0                0.0            0  1375586.0   \n",
            "1                0.0     1.0                0.0            1  1050611.0   \n",
            "2                0.0     1.0                0.0            1  1050612.0   \n",
            "3                0.0     1.0                0.0            1  1050613.0   \n",
            "4                0.0     1.0                0.0            0  1050614.0   \n",
            "\n",
            "   indext  \n",
            "0       0  \n",
            "1       1  \n",
            "2       0  \n",
            "3       0  \n",
            "4       0  \n",
            "\n",
            "[5 rows x 46 columns]\n"
          ]
        }
      ],
      "source": [
        "common_features = list(set(X_train.columns).intersection(X_test.columns))\n",
        "\n",
        "X_train_filtered = X_train[common_features]\n",
        "X_test_filtered = X_test[common_features]\n",
        "\n",
        "print(X_train_filtered.head())\n",
        "print(X_test_filtered.head())"
      ]
    },
    {
      "cell_type": "code",
      "execution_count": null,
      "id": "c9a5ff47-ea57-43a6-afc9-3228a9a8d79e",
      "metadata": {
        "id": "c9a5ff47-ea57-43a6-afc9-3228a9a8d79e",
        "outputId": "3b72786c-f2de-416d-fde2-c05ccef32699"
      },
      "outputs": [
        {
          "name": "stdout",
          "output_type": "stream",
          "text": [
            "Object columns in X_train_filtered:\n",
            "            nomprov  fecha_dato  fecha_alta\n",
            "68   BALEARS, ILLES  2015-01-28  2012-08-10\n",
            "69       VALLADOLID  2015-01-28  2012-08-10\n",
            "72   BALEARS, ILLES  2015-01-28  2012-08-10\n",
            "121        VALENCIA  2015-01-28  2012-08-10\n",
            "187          MADRID  2015-01-28  2012-08-10\n",
            "Object columns in X_test_filtered:\n",
            "       nomprov  fecha_dato  fecha_alta\n",
            "0       MALAGA  2015-01-28  2015-01-12\n",
            "1  CIUDAD REAL  2015-01-28  2012-08-10\n",
            "2  CIUDAD REAL  2015-01-28  2012-08-10\n",
            "3     ZARAGOZA  2015-01-28  2012-08-10\n",
            "4     ZARAGOZA  2015-01-28  2012-08-10\n"
          ]
        }
      ],
      "source": [
        "object_columns_train = X_train_filtered.select_dtypes(include=['object']).columns\n",
        "object_columns_test = X_test_filtered.select_dtypes(include=['object']).columns\n",
        "\n",
        "print(\"Object columns in X_train_filtered:\")\n",
        "print(X_train_filtered[object_columns_train].head())\n",
        "\n",
        "print(\"Object columns in X_test_filtered:\")\n",
        "print(X_test_filtered[object_columns_test].head())\n"
      ]
    },
    {
      "cell_type": "code",
      "execution_count": null,
      "id": "c7922113-84f6-4ce6-852a-3e182b751554",
      "metadata": {
        "id": "c7922113-84f6-4ce6-852a-3e182b751554"
      },
      "outputs": [],
      "source": [
        "X_train_filtered['nomprov'] = X_train_filtered['nomprov'].astype('category')\n",
        "X_test_filtered['nomprov'] = X_test_filtered['nomprov'].astype('category')"
      ]
    },
    {
      "cell_type": "code",
      "execution_count": null,
      "id": "af42ce5d-7631-4405-bb47-6e6ddbff8a96",
      "metadata": {
        "id": "af42ce5d-7631-4405-bb47-6e6ddbff8a96"
      },
      "outputs": [],
      "source": [
        "# Convert date columns to datetime\n",
        "X_train_filtered['fecha_dato'] = pd.to_datetime(X_train_filtered['fecha_dato'])\n",
        "X_train_filtered['fecha_alta'] = pd.to_datetime(X_train_filtered['fecha_alta'])\n",
        "X_test_filtered['fecha_dato'] = pd.to_datetime(X_test_filtered['fecha_dato'])\n",
        "X_test_filtered['fecha_alta'] = pd.to_datetime(X_test_filtered['fecha_alta'])\n",
        "\n",
        "# Extract features from dates\n",
        "X_train_filtered['fecha_dato_year'] = X_train_filtered['fecha_dato'].dt.year\n",
        "X_train_filtered['fecha_dato_month'] = X_train_filtered['fecha_dato'].dt.month\n",
        "X_train_filtered['fecha_dato_day'] = X_train_filtered['fecha_dato'].dt.day\n",
        "X_train_filtered['fecha_alta_year'] = X_train_filtered['fecha_alta'].dt.year\n",
        "X_train_filtered['fecha_alta_month'] = X_train_filtered['fecha_alta'].dt.month\n",
        "X_train_filtered['fecha_alta_day'] = X_train_filtered['fecha_alta'].dt.day\n",
        "\n",
        "X_test_filtered['fecha_dato_year'] = X_test_filtered['fecha_dato'].dt.year\n",
        "X_test_filtered['fecha_dato_month'] = X_test_filtered['fecha_dato'].dt.month\n",
        "X_test_filtered['fecha_dato_day'] = X_test_filtered['fecha_dato'].dt.day\n",
        "X_test_filtered['fecha_alta_year'] = X_test_filtered['fecha_alta'].dt.year\n",
        "X_test_filtered['fecha_alta_month'] = X_test_filtered['fecha_alta'].dt.month\n",
        "X_test_filtered['fecha_alta_day'] = X_test_filtered['fecha_alta'].dt.day\n",
        "\n",
        "# Drop original date columns\n",
        "X_train_filtered.drop(columns=['fecha_dato', 'fecha_alta'], inplace=True)\n",
        "X_test_filtered.drop(columns=['fecha_dato', 'fecha_alta'], inplace=True)\n"
      ]
    },
    {
      "cell_type": "code",
      "execution_count": null,
      "id": "b8f6b927-d287-4f7e-88bd-2668790745c4",
      "metadata": {
        "id": "b8f6b927-d287-4f7e-88bd-2668790745c4",
        "outputId": "2039d730-c6e9-4422-8d13-9689473fa8c7"
      },
      "outputs": [
        {
          "name": "stdout",
          "output_type": "stream",
          "text": [
            "DMatrix creation successful!\n"
          ]
        }
      ],
      "source": [
        "import xgboost as xgb\n",
        "\n",
        "try:\n",
        "    train = xgb.DMatrix(X_train_filtered, label=y_train, enable_categorical=True)\n",
        "    test = xgb.DMatrix(X_test_filtered, label=y_test, enable_categorical=True)\n",
        "    print(\"DMatrix creation successful!\")\n",
        "except Exception as e:\n",
        "    print(f\"Error creating DMatrix: {e}\")\n"
      ]
    },
    {
      "cell_type": "code",
      "execution_count": null,
      "id": "8d94041e-8627-44e0-8488-3e0af3e9e6ca",
      "metadata": {
        "id": "8d94041e-8627-44e0-8488-3e0af3e9e6ca"
      },
      "outputs": [],
      "source": [
        "# (Kept getting errors because the nomprov and fecha_columns were not converted)\n",
        "# I do not know why, but I just did it individually to use the xgboost"
      ]
    },
    {
      "cell_type": "code",
      "execution_count": null,
      "id": "a1bebc4e-244a-4c27-82f2-e83573886772",
      "metadata": {
        "id": "a1bebc4e-244a-4c27-82f2-e83573886772",
        "outputId": "b079a769-ec81-40f2-8f75-522da85f0cf3"
      },
      "outputs": [
        {
          "name": "stdout",
          "output_type": "stream",
          "text": [
            "Unique values in y_train: [ 5.  6.  7.  8.  9. 10.]\n"
          ]
        }
      ],
      "source": [
        "import numpy as np\n",
        "\n",
        "print(\"Unique values in y_train:\", np.unique(y_train))\n",
        "y_train = y_train.astype(int)"
      ]
    },
    {
      "cell_type": "code",
      "execution_count": null,
      "id": "a133b18a-c7cd-4ef0-8bfd-fe9ce82bc7dc",
      "metadata": {
        "id": "a133b18a-c7cd-4ef0-8bfd-fe9ce82bc7dc",
        "outputId": "4bbdc134-6c27-4755-a456-5876e129813f"
      },
      "outputs": [
        {
          "name": "stdout",
          "output_type": "stream",
          "text": [
            "Unique values in y_train after transformation: [0 1 2 3 4 5]\n"
          ]
        }
      ],
      "source": [
        "# Subtract the minimum value from all the values in y_train to shift them to start from 0\n",
        "y_train -= y_train.min()\n",
        "\n",
        "# Print the unique values in y_train after the transformation\n",
        "print(\"Unique values in y_train after transformation:\", np.unique(y_train))"
      ]
    },
    {
      "cell_type": "code",
      "execution_count": null,
      "id": "ce50810c-2d9b-496a-b02d-ae5c7487c4e7",
      "metadata": {
        "id": "ce50810c-2d9b-496a-b02d-ae5c7487c4e7",
        "outputId": "9f7b1980-75f7-47fe-c7a7-ed9eaa83c920"
      },
      "outputs": [
        {
          "name": "stdout",
          "output_type": "stream",
          "text": [
            "Best Hyperparameters: {'xgbclassifier__subsample': 1.0, 'xgbclassifier__reg_lambda': 0.1, 'xgbclassifier__reg_alpha': 0.5, 'xgbclassifier__max_depth': 5, 'xgbclassifier__learning_rate': 0.05, 'xgbclassifier__gamma': 0, 'xgbclassifier__colsample_bytree': 0.8}\n",
            "Predictions: [0 0 0 ... 0 0 0]\n"
          ]
        }
      ],
      "source": [
        "import pandas as pd\n",
        "from sklearn.model_selection import RandomizedSearchCV, StratifiedKFold\n",
        "from xgboost import XGBClassifier\n",
        "from sklearn.preprocessing import OneHotEncoder\n",
        "from sklearn.compose import ColumnTransformer\n",
        "from sklearn.pipeline import Pipeline\n",
        "from sklearn.impute import SimpleImputer\n",
        "from sklearn.metrics import make_scorer, f1_score\n",
        "\n",
        "# Define the parameter grid\n",
        "param_grid = {\n",
        "    'xgbclassifier__learning_rate': [0.01, 0.05, 0.1],\n",
        "    'xgbclassifier__max_depth': [3, 5, 7],\n",
        "    'xgbclassifier__subsample': [0.6, 0.8, 1.0],\n",
        "    'xgbclassifier__colsample_bytree': [0.6, 0.8, 1.0],\n",
        "    'xgbclassifier__gamma': [0, 0.1, 0.2],\n",
        "    'xgbclassifier__reg_alpha': [0, 0.1, 0.5],\n",
        "    'xgbclassifier__reg_lambda': [0, 0.1, 0.5]\n",
        "}\n",
        "\n",
        "# Identify numerical and categorical columns\n",
        "categorical_features = X_train_filtered.select_dtypes(include=['object', 'category']).columns\n",
        "numerical_features = X_train_filtered.select_dtypes(include=['int', 'float']).columns\n",
        "\n",
        "# Define preprocessing for numerical and categorical data\n",
        "preprocessor = ColumnTransformer(\n",
        "    transformers=[\n",
        "        ('num', SimpleImputer(strategy='median'), numerical_features),\n",
        "        ('cat', Pipeline(steps=[\n",
        "            ('imputer', SimpleImputer(strategy='most_frequent')),\n",
        "            ('onehot', OneHotEncoder(handle_unknown='ignore'))\n",
        "        ]), categorical_features)\n",
        "    ]\n",
        ")\n",
        "\n",
        "# Create a pipeline with preprocessing and XGBoost\n",
        "pipeline = Pipeline(steps=[\n",
        "    ('preprocessor', preprocessor),\n",
        "    ('xgbclassifier', XGBClassifier(eval_metric='mlogloss'))  # Remove use_label_encoder\n",
        "])\n",
        "\n",
        "# Initialize StratifiedKFold\n",
        "cv = StratifiedKFold(n_splits=2, shuffle=True, random_state=42)\n",
        "\n",
        "# Define scoring metric\n",
        "scoring = make_scorer(f1_score, average='weighted')\n",
        "\n",
        "# Initialize RandomizedSearchCV\n",
        "random_search = RandomizedSearchCV(estimator=pipeline, param_distributions=param_grid, n_iter=10,\n",
        "                                   scoring=scoring, cv=cv, n_jobs=-1, random_state=42)\n",
        "\n",
        "# Perform the random search\n",
        "random_search.fit(X_train_filtered, y_train)\n",
        "\n",
        "# Get the best hyperparameters\n",
        "best_params = random_search.best_params_\n",
        "\n",
        "# Initialize XGBoost model with the best hyperparameters\n",
        "best_xgb_model = random_search.best_estimator_\n",
        "\n",
        "# Make predictions on the test dataset\n",
        "predictions = best_xgb_model.predict(X_test_filtered)\n",
        "\n",
        "print(\"Best Hyperparameters:\", best_params)\n",
        "print(\"Predictions:\", predictions)\n"
      ]
    },
    {
      "cell_type": "code",
      "execution_count": null,
      "id": "76694556-c1fb-4e7e-aa2c-ab74ca72d7ab",
      "metadata": {
        "id": "76694556-c1fb-4e7e-aa2c-ab74ca72d7ab",
        "outputId": "b9b2b7bc-108b-44fa-db29-ff0ef070144f"
      },
      "outputs": [
        {
          "name": "stdout",
          "output_type": "stream",
          "text": [
            "Predictions: [0 0 0 ... 0 0 0]\n"
          ]
        }
      ],
      "source": [
        "import pandas as pd\n",
        "from sklearn.pipeline import Pipeline\n",
        "from xgboost import XGBClassifier\n",
        "\n",
        "# Assuming best_xgb_model is the pipeline with XGBClassifier\n",
        "# Ensure X_test_filtered is a DataFrame\n",
        "if not isinstance(X_test_filtered, pd.DataFrame):\n",
        "    X_test_filtered = pd.DataFrame(X_test_filtered)\n",
        "\n",
        "# Make predictions using the pipeline\n",
        "predictions = best_xgb_model.predict(X_test_filtered)\n",
        "\n",
        "print(\"Predictions:\", predictions)\n"
      ]
    },
    {
      "cell_type": "code",
      "execution_count": null,
      "id": "47f7f2d1-7012-4c90-ae6a-5f3a74bebeab",
      "metadata": {
        "id": "47f7f2d1-7012-4c90-ae6a-5f3a74bebeab"
      },
      "outputs": [],
      "source": [
        "# Make predictions on the test set\n",
        "predictions = best_xgb_model.predict(X_test_filtered)"
      ]
    },
    {
      "cell_type": "code",
      "execution_count": null,
      "id": "4793fa79-d742-4d22-8dcf-b598b615cf0d",
      "metadata": {
        "id": "4793fa79-d742-4d22-8dcf-b598b615cf0d",
        "outputId": "b7f992f2-a143-4f81-9c3c-12cff14fd2b8"
      },
      "outputs": [
        {
          "name": "stdout",
          "output_type": "stream",
          "text": [
            "Mean Squared Error (MSE): 3.5761861771491623\n",
            "Mean Absolute Error (MAE): 1.6349684020463437\n",
            "R-squared: -2.3502098320896465\n"
          ]
        }
      ],
      "source": [
        "from sklearn.metrics import mean_squared_error, mean_absolute_error, r2_score\n",
        "\n",
        "# Calculate Mean Squared Error (MSE)\n",
        "mse = mean_squared_error(y_test, predictions)\n",
        "print(\"Mean Squared Error (MSE):\", mse)\n",
        "\n",
        "# Calculate Mean Absolute Error (MAE)\n",
        "mae = mean_absolute_error(y_test, predictions)\n",
        "print(\"Mean Absolute Error (MAE):\", mae)\n",
        "\n",
        "# Calculate R-squared\n",
        "r_squared = r2_score(y_test, predictions)\n",
        "print(\"R-squared:\", r_squared)\n"
      ]
    },
    {
      "cell_type": "code",
      "execution_count": null,
      "id": "0736944b-1174-497c-94e1-c953241dc8a3",
      "metadata": {
        "id": "0736944b-1174-497c-94e1-c953241dc8a3",
        "outputId": "ece9f029-a92e-46f9-a325-604e640c5881"
      },
      "outputs": [
        {
          "name": "stdout",
          "output_type": "stream",
          "text": [
            "Top N Most Important Features:\n",
            "ind_actividad_cliente: 0.14063723385334015\n",
            "indrel_1mes: 0.11204744130373001\n",
            "ind_nuevo: 0.10725051909685135\n",
            "ind_recibo_ult1: 0.08675788342952728\n",
            "ind_nom_pens_ult1: 0.0736551508307457\n",
            "ind_nomina_ult1: 0.058276403695344925\n",
            "ind_ecue_fin_ult1: 0.05300913006067276\n",
            "ind_tjcr_fin_ult1: 0.04388168081641197\n",
            "canal_entrada: 0.02627280168235302\n",
            "renta: 0.025992324575781822\n"
          ]
        },
        {
          "data": {
            "image/png": "[encoded data removed]",
            "text/plain": [
              "<Figure size 1100x800 with 1 Axes>"
            ]
          },
          "metadata": {},
          "output_type": "display_data"
        }
      ],
      "source": [
        "import matplotlib.pyplot as plt\n",
        "import numpy as np\n",
        "\n",
        "# Extract the XGBRegressor model from the pipeline\n",
        "xgb_model = best_xgb_model.named_steps['xgbclassifier']\n",
        "\n",
        "# Get feature importance scores\n",
        "feature_importance = xgb_model.feature_importances_\n",
        "\n",
        "# Get feature names\n",
        "feature_names = X_train_filtered.columns.tolist()\n",
        "\n",
        "# Create a dictionary to store feature importance scores for each feature\n",
        "feature_importance_dict = dict(zip(feature_names, feature_importance))\n",
        "\n",
        "# Sort feature importance scores in descending order\n",
        "sorted_feature_importance = sorted(feature_importance_dict.items(), key=lambda x: x[1], reverse=True)\n",
        "\n",
        "# Get sorted feature names and importance scores\n",
        "sorted_feature_names = [feature[0] for feature in sorted_feature_importance]\n",
        "sorted_feature_scores = [feature[1] for feature in sorted_feature_importance]\n",
        "\n",
        "# Print the most important columns\n",
        "print(\"Top N Most Important Features:\")\n",
        "top_n = 10  # Change this value to the number of top features you want to display\n",
        "for name, score in sorted_feature_importance[:top_n]:\n",
        "    print(f\"{name}: {score}\")\n",
        "\n",
        "# Plot sorted feature importance\n",
        "plt.figure(figsize=(11, 8))\n",
        "plt.barh(sorted_feature_names, sorted_feature_scores)\n",
        "plt.xlabel('Feature Importance')\n",
        "plt.ylabel('Features')\n",
        "plt.title('Feature Importance Plot (Sorted)')\n",
        "plt.show()\n"
      ]
    },
    {
      "cell_type": "code",
      "execution_count": null,
      "id": "8b368032-daab-42eb-b35d-22c09d4864f9",
      "metadata": {
        "id": "8b368032-daab-42eb-b35d-22c09d4864f9",
        "outputId": "ac4c6f0b-cdf2-4ba7-ada1-d2115bbc7bbe"
      },
      "outputs": [
        {
          "name": "stdout",
          "output_type": "stream",
          "text": [
            "Length of sample submission: 929615\n",
            "Number of users in the dataset: 10000\n"
          ]
        }
      ],
      "source": [
        "# Load the sample submission file\n",
        "sample_submission_path = \"sample_submission(spr).csv.zip\"\n",
        "sample_submission = pd.read_csv(sample_submission_path)\n",
        "\n",
        "# Check the length of the sample submission and the number of users in the dataset\n",
        "print(\"Length of sample submission:\", len(sample_submission))\n",
        "print(\"Number of users in the dataset:\", len(df_test))\n",
        "\n",
        "# Ensure the lengths match by truncating or padding the predictions\n",
        "if len(sample_submission) > len(df_test):\n",
        "    # Truncate the sample submission to match the length of the test dataset\n",
        "    sample_submission = sample_submission.iloc[:len(df_test)]\n",
        "elif len(sample_submission) < len(df_test):\n",
        "    # Pad the sample submission with empty predictions\n",
        "    padding_length = len(df_test) - len(sample_submission)\n",
        "    padding = pd.DataFrame({\"ncodpers\": [np.nan] * padding_length, \"added_products\": [\"\"] * padding_length})\n",
        "    sample_submission = pd.concat([sample_submission, padding], ignore_index=True)\n",
        "\n",
        "# Save the corrected sample submission\n",
        "sample_submission.to_csv(\"corrected_sample_submission.csv\", index=False)\n"
      ]
    },
    {
      "cell_type": "code",
      "execution_count": null,
      "id": "303d01e8-53c1-4add-812c-aa36a20b9cc9",
      "metadata": {
        "id": "303d01e8-53c1-4add-812c-aa36a20b9cc9"
      },
      "outputs": [],
      "source": [
        "## I think the issue for the sample submission is b ecuase the length is not the same\n",
        "## Maybe add back the number of users, or hopefully decrease the length of sample submissions"
      ]
    }
  ],
  "metadata": {
    "kernelspec": {
      "display_name": "Python 3 (ipykernel)",
      "language": "python",
      "name": "python3"
    },
    "language_info": {
      "codemirror_mode": {
        "name": "ipython",
        "version": 3
      },
      "file_extension": ".py",
      "mimetype": "text/x-python",
      "name": "python",
      "nbconvert_exporter": "python",
      "pygments_lexer": "ipython3",
      "version": "3.10.12"
    },
    "colab": {
      "provenance": []
    }
  },
  "nbformat": 4,
  "nbformat_minor": 5
}